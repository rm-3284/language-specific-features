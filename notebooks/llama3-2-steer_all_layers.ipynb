{
 "cells": [
  {
   "cell_type": "markdown",
   "id": "90b3234f",
   "metadata": {
    "papermill": {
     "duration": 0.002709,
     "end_time": "2025-05-11T19:03:19.772133",
     "exception": false,
     "start_time": "2025-05-11T19:03:19.769424",
     "status": "completed"
    },
    "tags": []
   },
   "source": [
    "## lm-evaluation-harness steering for Llama-3.2-1B"
   ]
  },
  {
   "cell_type": "code",
   "execution_count": 1,
   "id": "153a9d33",
   "metadata": {
    "execution": {
     "iopub.execute_input": "2025-05-11T19:03:19.777908Z",
     "iopub.status.busy": "2025-05-11T19:03:19.777647Z",
     "iopub.status.idle": "2025-05-11T19:03:19.899377Z",
     "shell.execute_reply": "2025-05-11T19:03:19.898612Z"
    },
    "papermill": {
     "duration": 0.126022,
     "end_time": "2025-05-11T19:03:19.900813",
     "exception": false,
     "start_time": "2025-05-11T19:03:19.774791",
     "status": "completed"
    },
    "tags": []
   },
   "outputs": [
    {
     "name": "stdout",
     "output_type": "stream",
     "text": [
      "Python 3.11.11\r\n"
     ]
    }
   ],
   "source": [
    "!python --version"
   ]
  },
  {
   "cell_type": "code",
   "execution_count": 2,
   "id": "32515a2d",
   "metadata": {
    "execution": {
     "iopub.execute_input": "2025-05-11T19:03:19.906433Z",
     "iopub.status.busy": "2025-05-11T19:03:19.906168Z",
     "iopub.status.idle": "2025-05-11T19:04:43.204979Z",
     "shell.execute_reply": "2025-05-11T19:04:43.204077Z"
    },
    "papermill": {
     "duration": 83.302928,
     "end_time": "2025-05-11T19:04:43.206203",
     "exception": false,
     "start_time": "2025-05-11T19:03:19.903275",
     "status": "completed"
    },
    "tags": []
   },
   "outputs": [
    {
     "name": "stdout",
     "output_type": "stream",
     "text": [
      "\u001b[2K     \u001b[90m━━━━━━━━━━━━━━━━━━━━━━━━━━━━━━━━━━━━━━━━\u001b[0m \u001b[32m50.5/50.5 kB\u001b[0m \u001b[31m1.7 MB/s\u001b[0m eta \u001b[36m0:00:00\u001b[0m\r\n",
      "\u001b[?25h  Preparing metadata (setup.py) ... \u001b[?25l\u001b[?25hdone\r\n",
      "\u001b[2K     \u001b[90m━━━━━━━━━━━━━━━━━━━━━━━━━━━━━━━━━━━━━━━━\u001b[0m \u001b[32m51.8/51.8 kB\u001b[0m \u001b[31m2.8 MB/s\u001b[0m eta \u001b[36m0:00:00\u001b[0m\r\n",
      "\u001b[?25h  Preparing metadata (setup.py) ... \u001b[?25l\u001b[?25hdone\r\n",
      "  Preparing metadata (setup.py) ... \u001b[?25l\u001b[?25hdone\r\n",
      "\u001b[2K   \u001b[90m━━━━━━━━━━━━━━━━━━━━━━━━━━━━━━━━━━━━━━━━\u001b[0m \u001b[32m3.9/3.9 MB\u001b[0m \u001b[31m43.7 MB/s\u001b[0m eta \u001b[36m0:00:00\u001b[0m\r\n",
      "\u001b[2K   \u001b[90m━━━━━━━━━━━━━━━━━━━━━━━━━━━━━━━━━━━━━━━━\u001b[0m \u001b[32m84.0/84.0 kB\u001b[0m \u001b[31m4.9 MB/s\u001b[0m eta \u001b[36m0:00:00\u001b[0m\r\n",
      "\u001b[2K   \u001b[90m━━━━━━━━━━━━━━━━━━━━━━━━━━━━━━━━━━━━━━━━\u001b[0m \u001b[32m104.1/104.1 kB\u001b[0m \u001b[31m7.5 MB/s\u001b[0m eta \u001b[36m0:00:00\u001b[0m\r\n",
      "\u001b[2K   \u001b[90m━━━━━━━━━━━━━━━━━━━━━━━━━━━━━━━━━━━━━━━━\u001b[0m \u001b[32m363.4/363.4 MB\u001b[0m \u001b[31m5.1 MB/s\u001b[0m eta \u001b[36m0:00:00\u001b[0m\r\n",
      "\u001b[2K   \u001b[90m━━━━━━━━━━━━━━━━━━━━━━━━━━━━━━━━━━━━━━━━\u001b[0m \u001b[32m664.8/664.8 MB\u001b[0m \u001b[31m2.6 MB/s\u001b[0m eta \u001b[36m0:00:00\u001b[0m\r\n",
      "\u001b[2K   \u001b[90m━━━━━━━━━━━━━━━━━━━━━━━━━━━━━━━━━━━━━━━━\u001b[0m \u001b[32m211.5/211.5 MB\u001b[0m \u001b[31m8.1 MB/s\u001b[0m eta \u001b[36m0:00:00\u001b[0m\r\n",
      "\u001b[2K   \u001b[90m━━━━━━━━━━━━━━━━━━━━━━━━━━━━━━━━━━━━━━━━\u001b[0m \u001b[32m56.3/56.3 MB\u001b[0m \u001b[31m30.3 MB/s\u001b[0m eta \u001b[36m0:00:00\u001b[0m\r\n",
      "\u001b[2K   \u001b[90m━━━━━━━━━━━━━━━━━━━━━━━━━━━━━━━━━━━━━━━━\u001b[0m \u001b[32m127.9/127.9 MB\u001b[0m \u001b[31m5.3 MB/s\u001b[0m eta \u001b[36m0:00:00\u001b[0m\r\n",
      "\u001b[2K   \u001b[90m━━━━━━━━━━━━━━━━━━━━━━━━━━━━━━━━━━━━━━━━\u001b[0m \u001b[32m207.5/207.5 MB\u001b[0m \u001b[31m8.1 MB/s\u001b[0m eta \u001b[36m0:00:00\u001b[0m\r\n",
      "\u001b[2K   \u001b[90m━━━━━━━━━━━━━━━━━━━━━━━━━━━━━━━━━━━━━━━━\u001b[0m \u001b[32m21.1/21.1 MB\u001b[0m \u001b[31m76.7 MB/s\u001b[0m eta \u001b[36m0:00:00\u001b[0m\r\n",
      "\u001b[2K   \u001b[90m━━━━━━━━━━━━━━━━━━━━━━━━━━━━━━━━━━━━━━━━\u001b[0m \u001b[32m91.1/91.1 kB\u001b[0m \u001b[31m5.3 MB/s\u001b[0m eta \u001b[36m0:00:00\u001b[0m\r\n",
      "\u001b[2K   \u001b[90m━━━━━━━━━━━━━━━━━━━━━━━━━━━━━━━━━━━━━━━━\u001b[0m \u001b[32m183.9/183.9 kB\u001b[0m \u001b[31m11.2 MB/s\u001b[0m eta \u001b[36m0:00:00\u001b[0m\r\n",
      "\u001b[?25h  Building wheel for rouge-score (setup.py) ... \u001b[?25l\u001b[?25hdone\r\n",
      "  Building wheel for sqlitedict (setup.py) ... \u001b[?25l\u001b[?25hdone\r\n",
      "  Building wheel for word2number (setup.py) ... \u001b[?25l\u001b[?25hdone\r\n",
      "\u001b[31mERROR: pip's dependency resolver does not currently take into account all the packages that are installed. This behaviour is the source of the following dependency conflicts.\r\n",
      "gcsfs 2024.10.0 requires fsspec==2024.10.0, but you have fsspec 2024.12.0 which is incompatible.\r\n",
      "bigframes 1.36.0 requires rich<14,>=12.4.4, but you have rich 14.0.0 which is incompatible.\r\n",
      "pylibcugraph-cu12 24.12.0 requires pylibraft-cu12==24.12.*, but you have pylibraft-cu12 25.2.0 which is incompatible.\r\n",
      "pylibcugraph-cu12 24.12.0 requires rmm-cu12==24.12.*, but you have rmm-cu12 25.2.0 which is incompatible.\u001b[0m\u001b[31m\r\n",
      "\u001b[0mNote: you may need to restart the kernel to use updated packages.\n"
     ]
    }
   ],
   "source": [
    "%pip install --quiet lm-eval==0.4.8"
   ]
  },
  {
   "cell_type": "code",
   "execution_count": 3,
   "id": "cf510053",
   "metadata": {
    "execution": {
     "iopub.execute_input": "2025-05-11T19:04:43.241462Z",
     "iopub.status.busy": "2025-05-11T19:04:43.240888Z",
     "iopub.status.idle": "2025-05-11T19:04:43.326704Z",
     "shell.execute_reply": "2025-05-11T19:04:43.326003Z"
    },
    "papermill": {
     "duration": 0.104581,
     "end_time": "2025-05-11T19:04:43.327986",
     "exception": false,
     "start_time": "2025-05-11T19:04:43.223405",
     "status": "completed"
    },
    "tags": []
   },
   "outputs": [],
   "source": [
    "env = 'kaggle'\n",
    "\n",
    "if env == 'colab':\n",
    "    from google.colab import userdata\n",
    "\n",
    "    HF_TOKEN = userdata.get('HF_TOKEN')\n",
    "elif env == 'kaggle':\n",
    "    from kaggle_secrets import UserSecretsClient\n",
    "\n",
    "    user_secrets = UserSecretsClient()\n",
    "    HF_TOKEN = user_secrets.get_secret(\"HF_TOKEN\")\n",
    "else:\n",
    "    from dotenv import load_dotenv\n",
    "    import os\n",
    "\n",
    "    load_dotenv()\n",
    "    HF_TOKEN = os.getenv(\"HF_TOKEN\")"
   ]
  },
  {
   "cell_type": "code",
   "execution_count": 4,
   "id": "e754a690",
   "metadata": {
    "execution": {
     "iopub.execute_input": "2025-05-11T19:04:43.363733Z",
     "iopub.status.busy": "2025-05-11T19:04:43.363110Z",
     "iopub.status.idle": "2025-05-11T19:04:44.043968Z",
     "shell.execute_reply": "2025-05-11T19:04:44.043232Z"
    },
    "papermill": {
     "duration": 0.70022,
     "end_time": "2025-05-11T19:04:44.045324",
     "exception": false,
     "start_time": "2025-05-11T19:04:43.345104",
     "status": "completed"
    },
    "tags": []
   },
   "outputs": [],
   "source": [
    "from huggingface_hub import login\n",
    "\n",
    "login(token=HF_TOKEN)"
   ]
  },
  {
   "cell_type": "code",
   "execution_count": 5,
   "id": "5ddb13c8",
   "metadata": {
    "execution": {
     "iopub.execute_input": "2025-05-11T19:04:44.080697Z",
     "iopub.status.busy": "2025-05-11T19:04:44.080156Z",
     "iopub.status.idle": "2025-05-11T19:04:47.104675Z",
     "shell.execute_reply": "2025-05-11T19:04:47.104052Z"
    },
    "papermill": {
     "duration": 3.043455,
     "end_time": "2025-05-11T19:04:47.105930",
     "exception": false,
     "start_time": "2025-05-11T19:04:44.062475",
     "status": "completed"
    },
    "tags": []
   },
   "outputs": [],
   "source": [
    "import torch\n",
    "import os\n",
    "from pathlib import Path\n",
    "import pprint"
   ]
  },
  {
   "cell_type": "markdown",
   "id": "6ff33dfa",
   "metadata": {
    "papermill": {
     "duration": 0.016886,
     "end_time": "2025-05-11T19:04:47.140225",
     "exception": false,
     "start_time": "2025-05-11T19:04:47.123339",
     "status": "completed"
    },
    "tags": []
   },
   "source": [
    "## Steering Configuration"
   ]
  },
  {
   "cell_type": "code",
   "execution_count": 6,
   "id": "2129dce3",
   "metadata": {
    "execution": {
     "iopub.execute_input": "2025-05-11T19:04:47.175104Z",
     "iopub.status.busy": "2025-05-11T19:04:47.174489Z",
     "iopub.status.idle": "2025-05-11T19:04:47.179355Z",
     "shell.execute_reply": "2025-05-11T19:04:47.178779Z"
    },
    "papermill": {
     "duration": 0.023394,
     "end_time": "2025-05-11T19:04:47.180413",
     "exception": false,
     "start_time": "2025-05-11T19:04:47.157019",
     "status": "completed"
    },
    "tags": []
   },
   "outputs": [],
   "source": [
    "def generate_config(layers, lang, multiplier, lape_result, lape_value_type):\n",
    "    steer_config = {}\n",
    "    lang_index = sorted_lang.index(lang)\n",
    "\n",
    "    for layer_index, layer in enumerate(layers):\n",
    "        sae_features = lape_result[\"sae_features\"][lang_index][layer_index]\n",
    "\n",
    "        if sae_features.numel() == 0:\n",
    "            continue\n",
    "\n",
    "        lape_value = lape_result[lape_value_type][lang_index][layer_index].unsqueeze(1)\n",
    "        steering_vector = torch.sum(lape_value * sae_features, dim=0, keepdim=True)\n",
    "\n",
    "        steer_config[layer] = {\n",
    "            \"steering_vector\": steering_vector,\n",
    "            \"bias\": None,\n",
    "            \"steering_coefficient\": multiplier,\n",
    "            \"action\": \"add\",\n",
    "        }\n",
    "\n",
    "    return steer_config"
   ]
  },
  {
   "cell_type": "markdown",
   "id": "1844d998",
   "metadata": {
    "papermill": {
     "duration": 0.016753,
     "end_time": "2025-05-11T19:04:47.213991",
     "exception": false,
     "start_time": "2025-05-11T19:04:47.197238",
     "status": "completed"
    },
    "tags": []
   },
   "source": [
    "## Llama-3.2-1B Evaluation on XWinograd"
   ]
  },
  {
   "cell_type": "code",
   "execution_count": 7,
   "id": "7a82bab3",
   "metadata": {
    "execution": {
     "iopub.execute_input": "2025-05-11T19:04:47.248819Z",
     "iopub.status.busy": "2025-05-11T19:04:47.248327Z",
     "iopub.status.idle": "2025-05-11T19:04:47.251730Z",
     "shell.execute_reply": "2025-05-11T19:04:47.251198Z"
    },
    "papermill": {
     "duration": 0.022009,
     "end_time": "2025-05-11T19:04:47.252809",
     "exception": false,
     "start_time": "2025-05-11T19:04:47.230800",
     "status": "completed"
    },
    "tags": []
   },
   "outputs": [],
   "source": [
    "layers = [\n",
    "    \"layers.0.mlp\",\n",
    "    \"layers.1.mlp\",\n",
    "    \"layers.2.mlp\",\n",
    "    \"layers.3.mlp\",\n",
    "    \"layers.4.mlp\",\n",
    "    \"layers.5.mlp\",\n",
    "    \"layers.6.mlp\",\n",
    "    \"layers.7.mlp\",\n",
    "    \"layers.8.mlp\",\n",
    "    \"layers.9.mlp\",\n",
    "    \"layers.10.mlp\",\n",
    "    \"layers.11.mlp\",\n",
    "    \"layers.12.mlp\",\n",
    "    \"layers.13.mlp\",\n",
    "    \"layers.14.mlp\",\n",
    "    \"layers.15.mlp\",\n",
    "]"
   ]
  },
  {
   "cell_type": "code",
   "execution_count": 8,
   "id": "a41f6903",
   "metadata": {
    "execution": {
     "iopub.execute_input": "2025-05-11T19:04:47.287346Z",
     "iopub.status.busy": "2025-05-11T19:04:47.287098Z",
     "iopub.status.idle": "2025-05-11T19:04:47.290781Z",
     "shell.execute_reply": "2025-05-11T19:04:47.290108Z"
    },
    "papermill": {
     "duration": 0.022137,
     "end_time": "2025-05-11T19:04:47.291832",
     "exception": false,
     "start_time": "2025-05-11T19:04:47.269695",
     "status": "completed"
    },
    "tags": []
   },
   "outputs": [],
   "source": [
    "langs = [\"English\", \"French\", \"Japanese\", \"Portuguese\", \"Russian\", \"Chinese\"]\n",
    "multiplier = -0.2\n",
    "lape_value_type = \"final_indice_global_max_active\"\n",
    "task = \"xwinograd\""
   ]
  },
  {
   "cell_type": "code",
   "execution_count": null,
   "id": "d9cb077f",
   "metadata": {
    "execution": {
     "iopub.execute_input": "2025-05-11T19:04:47.326282Z",
     "iopub.status.busy": "2025-05-11T19:04:47.326038Z",
     "iopub.status.idle": "2025-05-11T19:04:53.455944Z",
     "shell.execute_reply": "2025-05-11T19:04:53.455365Z"
    },
    "papermill": {
     "duration": 6.148715,
     "end_time": "2025-05-11T19:04:53.457351",
     "exception": false,
     "start_time": "2025-05-11T19:04:47.308636",
     "status": "completed"
    },
    "tags": []
   },
   "outputs": [],
   "source": [
    "lape_result_path = \"/kaggle/input/lape-result/lape_all.pt\"\n",
    "lape_result = torch.load(lape_result_path, weights_only=False)"
   ]
  },
  {
   "cell_type": "code",
   "execution_count": 10,
   "id": "b8cf0c70",
   "metadata": {
    "execution": {
     "iopub.execute_input": "2025-05-11T19:04:53.542870Z",
     "iopub.status.busy": "2025-05-11T19:04:53.542580Z",
     "iopub.status.idle": "2025-05-11T19:04:53.547918Z",
     "shell.execute_reply": "2025-05-11T19:04:53.547368Z"
    },
    "papermill": {
     "duration": 0.024206,
     "end_time": "2025-05-11T19:04:53.548938",
     "exception": false,
     "start_time": "2025-05-11T19:04:53.524732",
     "status": "completed"
    },
    "tags": []
   },
   "outputs": [
    {
     "data": {
      "text/plain": [
       "['Bulgarian',\n",
       " 'Chinese',\n",
       " 'English',\n",
       " 'French',\n",
       " 'German',\n",
       " 'Hindi',\n",
       " 'Italian',\n",
       " 'Japanese',\n",
       " 'Korean',\n",
       " 'Portuguese',\n",
       " 'Russian',\n",
       " 'Spanish',\n",
       " 'Thai',\n",
       " 'Turkish',\n",
       " 'Vietnamese']"
      ]
     },
     "execution_count": 10,
     "metadata": {},
     "output_type": "execute_result"
    }
   ],
   "source": [
    "sorted_lang = lape_result['sorted_lang']\n",
    "sorted_lang"
   ]
  },
  {
   "cell_type": "code",
   "execution_count": 11,
   "id": "c9438cbf",
   "metadata": {
    "execution": {
     "iopub.execute_input": "2025-05-11T19:04:53.585686Z",
     "iopub.status.busy": "2025-05-11T19:04:53.585428Z",
     "iopub.status.idle": "2025-05-11T19:04:53.700522Z",
     "shell.execute_reply": "2025-05-11T19:04:53.699678Z"
    },
    "papermill": {
     "duration": 0.136621,
     "end_time": "2025-05-11T19:04:53.702482",
     "exception": false,
     "start_time": "2025-05-11T19:04:53.565861",
     "status": "completed"
    },
    "tags": []
   },
   "outputs": [
    {
     "name": "stdout",
     "output_type": "stream",
     "text": [
      "Steer config for English:\n",
      "{'layers.0.mlp': {'action': 'add',\n",
      "                  'bias': None,\n",
      "                  'steering_coefficient': -0.2,\n",
      "                  'steering_vector': tensor([[-0.0016,  0.0012, -0.0162,  ..., -0.0097,  0.0093,  0.0034]])},\n",
      " 'layers.15.mlp': {'action': 'add',\n",
      "                   'bias': None,\n",
      "                   'steering_coefficient': -0.2,\n",
      "                   'steering_vector': tensor([[ 0.1577,  0.5668,  0.5586,  ..., -0.8667, -0.7975,  0.2503]])},\n",
      " 'layers.2.mlp': {'action': 'add',\n",
      "                  'bias': None,\n",
      "                  'steering_coefficient': -0.2,\n",
      "                  'steering_vector': tensor([[-0.0076,  0.0086,  0.0017,  ..., -0.0071,  0.0072, -0.0010]])},\n",
      " 'layers.4.mlp': {'action': 'add',\n",
      "                  'bias': None,\n",
      "                  'steering_coefficient': -0.2,\n",
      "                  'steering_vector': tensor([[-0.0111, -0.0190, -0.0057,  ..., -0.0072, -0.0029,  0.0166]])},\n",
      " 'layers.8.mlp': {'action': 'add',\n",
      "                  'bias': None,\n",
      "                  'steering_coefficient': -0.2,\n",
      "                  'steering_vector': tensor([[ 0.0011,  0.0084,  0.0212,  ..., -0.0126,  0.0265,  0.0016]])}}\n",
      "\n",
      "Steer config for French:\n",
      "{'layers.11.mlp': {'action': 'add',\n",
      "                   'bias': None,\n",
      "                   'steering_coefficient': -0.2,\n",
      "                   'steering_vector': tensor([[ 0.0977,  0.0674, -0.0182,  ...,  0.0359,  0.0335, -0.0731]])},\n",
      " 'layers.12.mlp': {'action': 'add',\n",
      "                   'bias': None,\n",
      "                   'steering_coefficient': -0.2,\n",
      "                   'steering_vector': tensor([[-0.0816, -0.1095, -0.1453,  ..., -0.0601,  0.2821,  0.1694]])},\n",
      " 'layers.13.mlp': {'action': 'add',\n",
      "                   'bias': None,\n",
      "                   'steering_coefficient': -0.2,\n",
      "                   'steering_vector': tensor([[-0.0134, -0.0698, -0.0781,  ...,  0.0535,  0.1035,  0.2072]])},\n",
      " 'layers.14.mlp': {'action': 'add',\n",
      "                   'bias': None,\n",
      "                   'steering_coefficient': -0.2,\n",
      "                   'steering_vector': tensor([[-0.0004,  0.0358,  0.0340,  ..., -0.0258, -0.0266,  0.0462]])},\n",
      " 'layers.5.mlp': {'action': 'add',\n",
      "                  'bias': None,\n",
      "                  'steering_coefficient': -0.2,\n",
      "                  'steering_vector': tensor([[-0.0369,  0.0201, -0.0219,  ..., -0.0191,  0.0726,  0.0321]])},\n",
      " 'layers.8.mlp': {'action': 'add',\n",
      "                  'bias': None,\n",
      "                  'steering_coefficient': -0.2,\n",
      "                  'steering_vector': tensor([[ 0.0068,  0.0031, -0.0054,  ..., -0.0430, -0.0432, -0.0425]])},\n",
      " 'layers.9.mlp': {'action': 'add',\n",
      "                  'bias': None,\n",
      "                  'steering_coefficient': -0.2,\n",
      "                  'steering_vector': tensor([[ 0.0004,  0.0492, -0.0275,  ...,  0.0112,  0.0271, -0.0869]])}}\n",
      "\n",
      "Steer config for Japanese:\n",
      "{'layers.0.mlp': {'action': 'add',\n",
      "                  'bias': None,\n",
      "                  'steering_coefficient': -0.2,\n",
      "                  'steering_vector': tensor([[ 0.0209, -0.0150, -0.0190,  ..., -0.0061, -0.0350, -0.0142]])},\n",
      " 'layers.11.mlp': {'action': 'add',\n",
      "                   'bias': None,\n",
      "                   'steering_coefficient': -0.2,\n",
      "                   'steering_vector': tensor([[-0.1581, -0.1824, -0.0617,  ..., -0.1309,  0.0501,  0.1770]])},\n",
      " 'layers.12.mlp': {'action': 'add',\n",
      "                   'bias': None,\n",
      "                   'steering_coefficient': -0.2,\n",
      "                   'steering_vector': tensor([[ 0.0939,  0.1675,  0.0549,  ...,  0.0322,  0.0079, -0.1477]])},\n",
      " 'layers.13.mlp': {'action': 'add',\n",
      "                   'bias': None,\n",
      "                   'steering_coefficient': -0.2,\n",
      "                   'steering_vector': tensor([[ 0.0732, -0.1842, -0.3492,  ..., -0.1477,  0.4162, -0.3295]])},\n",
      " 'layers.14.mlp': {'action': 'add',\n",
      "                   'bias': None,\n",
      "                   'steering_coefficient': -0.2,\n",
      "                   'steering_vector': tensor([[ 0.1486, -0.3330, -0.1681,  ...,  0.1410, -0.0753, -1.2555]])},\n",
      " 'layers.15.mlp': {'action': 'add',\n",
      "                   'bias': None,\n",
      "                   'steering_coefficient': -0.2,\n",
      "                   'steering_vector': tensor([[ 0.3125, -0.1978,  0.9227,  ..., -0.5567, -0.3204, -1.0144]])},\n",
      " 'layers.8.mlp': {'action': 'add',\n",
      "                  'bias': None,\n",
      "                  'steering_coefficient': -0.2,\n",
      "                  'steering_vector': tensor([[ 0.0113, -0.0173, -0.0006,  ...,  0.0406, -0.0127,  0.0172]])},\n",
      " 'layers.9.mlp': {'action': 'add',\n",
      "                  'bias': None,\n",
      "                  'steering_coefficient': -0.2,\n",
      "                  'steering_vector': tensor([[ 0.0524,  0.0270,  0.0090,  ...,  0.0004,  0.0028, -0.0004]])}}\n",
      "\n",
      "Steer config for Portuguese:\n",
      "{'layers.0.mlp': {'action': 'add',\n",
      "                  'bias': None,\n",
      "                  'steering_coefficient': -0.2,\n",
      "                  'steering_vector': tensor([[-0.0636,  0.0086, -0.0724,  ..., -0.0195, -0.0381, -0.0191]])},\n",
      " 'layers.10.mlp': {'action': 'add',\n",
      "                   'bias': None,\n",
      "                   'steering_coefficient': -0.2,\n",
      "                   'steering_vector': tensor([[ 0.0354, -0.0713,  0.0167,  ...,  0.0797, -0.0868, -0.0279]])},\n",
      " 'layers.11.mlp': {'action': 'add',\n",
      "                   'bias': None,\n",
      "                   'steering_coefficient': -0.2,\n",
      "                   'steering_vector': tensor([[ 0.0025,  0.1380,  0.0185,  ..., -0.0446, -0.0745,  0.0477]])},\n",
      " 'layers.12.mlp': {'action': 'add',\n",
      "                   'bias': None,\n",
      "                   'steering_coefficient': -0.2,\n",
      "                   'steering_vector': tensor([[-0.0121,  0.0264,  0.0681,  ...,  0.0378, -0.0152,  0.0197]])},\n",
      " 'layers.13.mlp': {'action': 'add',\n",
      "                   'bias': None,\n",
      "                   'steering_coefficient': -0.2,\n",
      "                   'steering_vector': tensor([[-0.3234,  0.0732, -0.0357,  ..., -0.5104, -0.0014,  0.8459]])},\n",
      " 'layers.14.mlp': {'action': 'add',\n",
      "                   'bias': None,\n",
      "                   'steering_coefficient': -0.2,\n",
      "                   'steering_vector': tensor([[-0.6146,  0.4202,  0.4051,  ..., -0.1988, -0.0513, -0.5888]])},\n",
      " 'layers.15.mlp': {'action': 'add',\n",
      "                   'bias': None,\n",
      "                   'steering_coefficient': -0.2,\n",
      "                   'steering_vector': tensor([[ 0.2933, -0.0864,  0.4884,  ..., -0.1226, -0.5141, -0.2133]])},\n",
      " 'layers.2.mlp': {'action': 'add',\n",
      "                  'bias': None,\n",
      "                  'steering_coefficient': -0.2,\n",
      "                  'steering_vector': tensor([[-0.0149,  0.0061, -0.0088,  ...,  0.0592, -0.0508, -0.0706]])},\n",
      " 'layers.3.mlp': {'action': 'add',\n",
      "                  'bias': None,\n",
      "                  'steering_coefficient': -0.2,\n",
      "                  'steering_vector': tensor([[ 0.0469, -0.0003, -0.0208,  ...,  0.0015, -0.0868,  0.1017]])},\n",
      " 'layers.4.mlp': {'action': 'add',\n",
      "                  'bias': None,\n",
      "                  'steering_coefficient': -0.2,\n",
      "                  'steering_vector': tensor([[ 0.1115,  0.0291, -0.0357,  ..., -0.0064,  0.0400, -0.1209]])},\n",
      " 'layers.5.mlp': {'action': 'add',\n",
      "                  'bias': None,\n",
      "                  'steering_coefficient': -0.2,\n",
      "                  'steering_vector': tensor([[-0.0062, -0.0388, -0.0119,  ..., -0.0024, -0.0513, -0.0387]])},\n",
      " 'layers.7.mlp': {'action': 'add',\n",
      "                  'bias': None,\n",
      "                  'steering_coefficient': -0.2,\n",
      "                  'steering_vector': tensor([[-0.0069, -0.0208,  0.0069,  ..., -0.0041, -0.0261, -0.0323]])},\n",
      " 'layers.8.mlp': {'action': 'add',\n",
      "                  'bias': None,\n",
      "                  'steering_coefficient': -0.2,\n",
      "                  'steering_vector': tensor([[ 0.0275, -0.0172, -0.0005,  ...,  0.0110, -0.0141,  0.0264]])},\n",
      " 'layers.9.mlp': {'action': 'add',\n",
      "                  'bias': None,\n",
      "                  'steering_coefficient': -0.2,\n",
      "                  'steering_vector': tensor([[-0.0191, -0.2261,  0.0365,  ...,  0.1755,  0.0014, -0.1539]])}}\n",
      "\n",
      "Steer config for Russian:\n",
      "{'layers.10.mlp': {'action': 'add',\n",
      "                   'bias': None,\n",
      "                   'steering_coefficient': -0.2,\n",
      "                   'steering_vector': tensor([[-0.0093,  0.0513, -0.0263,  ..., -0.0306, -0.0414,  0.1135]])},\n",
      " 'layers.11.mlp': {'action': 'add',\n",
      "                   'bias': None,\n",
      "                   'steering_coefficient': -0.2,\n",
      "                   'steering_vector': tensor([[-0.1892, -0.1343,  0.0176,  ...,  0.0672, -0.1306,  0.0676]])},\n",
      " 'layers.12.mlp': {'action': 'add',\n",
      "                   'bias': None,\n",
      "                   'steering_coefficient': -0.2,\n",
      "                   'steering_vector': tensor([[ 0.0800, -0.1452, -0.0542,  ..., -0.1418,  0.0031, -0.2085]])},\n",
      " 'layers.13.mlp': {'action': 'add',\n",
      "                   'bias': None,\n",
      "                   'steering_coefficient': -0.2,\n",
      "                   'steering_vector': tensor([[ 0.0442, -0.1163, -0.0587,  ..., -0.0269,  0.5496,  0.7337]])},\n",
      " 'layers.14.mlp': {'action': 'add',\n",
      "                   'bias': None,\n",
      "                   'steering_coefficient': -0.2,\n",
      "                   'steering_vector': tensor([[ 0.1624, -0.0529,  0.0580,  ...,  0.0770,  0.0516, -0.0366]])},\n",
      " 'layers.15.mlp': {'action': 'add',\n",
      "                   'bias': None,\n",
      "                   'steering_coefficient': -0.2,\n",
      "                   'steering_vector': tensor([[-0.1136,  0.2265,  0.2056,  ..., -0.4016, -0.1373, -0.2501]])},\n",
      " 'layers.4.mlp': {'action': 'add',\n",
      "                  'bias': None,\n",
      "                  'steering_coefficient': -0.2,\n",
      "                  'steering_vector': tensor([[ 0.0304,  0.0015, -0.0049,  ..., -0.0223,  0.0122,  0.0120]])},\n",
      " 'layers.6.mlp': {'action': 'add',\n",
      "                  'bias': None,\n",
      "                  'steering_coefficient': -0.2,\n",
      "                  'steering_vector': tensor([[-0.0219, -0.0046, -0.0156,  ..., -0.0230,  0.0189,  0.0122]])},\n",
      " 'layers.7.mlp': {'action': 'add',\n",
      "                  'bias': None,\n",
      "                  'steering_coefficient': -0.2,\n",
      "                  'steering_vector': tensor([[-0.0122,  0.0208,  0.0010,  ...,  0.0071, -0.0041,  0.0069]])},\n",
      " 'layers.8.mlp': {'action': 'add',\n",
      "                  'bias': None,\n",
      "                  'steering_coefficient': -0.2,\n",
      "                  'steering_vector': tensor([[-0.0799, -0.0067, -0.0049,  ..., -0.0910,  0.0412,  0.0622]])},\n",
      " 'layers.9.mlp': {'action': 'add',\n",
      "                  'bias': None,\n",
      "                  'steering_coefficient': -0.2,\n",
      "                  'steering_vector': tensor([[-0.0045,  0.0452, -0.0125,  ...,  0.0291, -0.0086,  0.0206]])}}\n",
      "\n",
      "Steer config for Chinese:\n",
      "{'layers.10.mlp': {'action': 'add',\n",
      "                   'bias': None,\n",
      "                   'steering_coefficient': -0.2,\n",
      "                   'steering_vector': tensor([[-0.1178, -0.1156, -0.0528,  ...,  0.0035, -0.0323, -0.0826]])},\n",
      " 'layers.11.mlp': {'action': 'add',\n",
      "                   'bias': None,\n",
      "                   'steering_coefficient': -0.2,\n",
      "                   'steering_vector': tensor([[-0.2768, -0.1965, -0.0544,  ..., -0.0153, -0.1000, -0.0991]])},\n",
      " 'layers.12.mlp': {'action': 'add',\n",
      "                   'bias': None,\n",
      "                   'steering_coefficient': -0.2,\n",
      "                   'steering_vector': tensor([[-0.0016, -0.1230,  0.0128,  ..., -0.0269,  0.1263,  0.0297]])},\n",
      " 'layers.13.mlp': {'action': 'add',\n",
      "                   'bias': None,\n",
      "                   'steering_coefficient': -0.2,\n",
      "                   'steering_vector': tensor([[-0.0663,  0.0197, -0.0392,  ...,  0.0103,  0.0555,  0.0454]])},\n",
      " 'layers.14.mlp': {'action': 'add',\n",
      "                   'bias': None,\n",
      "                   'steering_coefficient': -0.2,\n",
      "                   'steering_vector': tensor([[-0.3765, -0.3648, -0.1418,  ...,  0.0539, -0.1209,  0.2307]])},\n",
      " 'layers.15.mlp': {'action': 'add',\n",
      "                   'bias': None,\n",
      "                   'steering_coefficient': -0.2,\n",
      "                   'steering_vector': tensor([[ 0.1220,  0.3115,  0.2040,  ..., -0.0442, -0.0390,  0.1905]])},\n",
      " 'layers.2.mlp': {'action': 'add',\n",
      "                  'bias': None,\n",
      "                  'steering_coefficient': -0.2,\n",
      "                  'steering_vector': tensor([[ 0.0276, -0.0069, -0.0259,  ..., -0.0097, -0.0174, -0.0063]])},\n",
      " 'layers.6.mlp': {'action': 'add',\n",
      "                  'bias': None,\n",
      "                  'steering_coefficient': -0.2,\n",
      "                  'steering_vector': tensor([[-0.0036, -0.0738, -0.0025,  ..., -0.0105,  0.0145, -0.0635]])},\n",
      " 'layers.7.mlp': {'action': 'add',\n",
      "                  'bias': None,\n",
      "                  'steering_coefficient': -0.2,\n",
      "                  'steering_vector': tensor([[-0.0097,  0.0038,  0.0005,  ...,  0.0047,  0.0038, -0.0011]])},\n",
      " 'layers.9.mlp': {'action': 'add',\n",
      "                  'bias': None,\n",
      "                  'steering_coefficient': -0.2,\n",
      "                  'steering_vector': tensor([[-0.0433, -0.0187, -0.0332,  ...,  0.0354,  0.0276, -0.1174]])}}\n",
      "\n"
     ]
    }
   ],
   "source": [
    "steer_output_paths = {}\n",
    "steer_configs = {}\n",
    "\n",
    "for lang in langs:\n",
    "    steer_config = generate_config(layers, lang, multiplier, lape_result, lape_value_type)\n",
    "    steer_configs[lang] = steer_config\n",
    "\n",
    "    print(f\"Steer config for {lang}:\")\n",
    "    pprint.pprint(steer_config)\n",
    "    print()\n",
    "\n",
    "    steer_output_path = f\"/kaggle/working/configs/{lang}/steer_config_mult_{multiplier}.pt\"\n",
    "    steer_output_paths[lang] = steer_output_path\n",
    "\n",
    "    os.makedirs(os.path.dirname(steer_output_path), exist_ok=True)\n",
    "    torch.save(steer_config, steer_output_path)"
   ]
  },
  {
   "cell_type": "code",
   "execution_count": 12,
   "id": "bd9d8727",
   "metadata": {
    "execution": {
     "iopub.execute_input": "2025-05-11T19:04:53.738888Z",
     "iopub.status.busy": "2025-05-11T19:04:53.738654Z",
     "iopub.status.idle": "2025-05-11T19:04:53.742366Z",
     "shell.execute_reply": "2025-05-11T19:04:53.741664Z"
    },
    "papermill": {
     "duration": 0.023103,
     "end_time": "2025-05-11T19:04:53.743485",
     "exception": false,
     "start_time": "2025-05-11T19:04:53.720382",
     "status": "completed"
    },
    "tags": []
   },
   "outputs": [],
   "source": [
    "output_paths = {}\n",
    "\n",
    "for lang in langs:\n",
    "    output_paths[lang] = f'/kaggle/working/eval_result/Llama-3.2-1B/{task}_steer/{lang}/mult_{multiplier}'"
   ]
  },
  {
   "cell_type": "code",
   "execution_count": 13,
   "id": "5872bfe7",
   "metadata": {
    "execution": {
     "iopub.execute_input": "2025-05-11T19:04:53.780640Z",
     "iopub.status.busy": "2025-05-11T19:04:53.780411Z",
     "iopub.status.idle": "2025-05-11T19:22:11.105380Z",
     "shell.execute_reply": "2025-05-11T19:22:11.104555Z"
    },
    "papermill": {
     "duration": 1037.346172,
     "end_time": "2025-05-11T19:22:11.106823",
     "exception": false,
     "start_time": "2025-05-11T19:04:53.760651",
     "status": "completed"
    },
    "tags": []
   },
   "outputs": [
    {
     "name": "stdout",
     "output_type": "stream",
     "text": [
      "2025-05-11 19:05:04.536544: E external/local_xla/xla/stream_executor/cuda/cuda_fft.cc:477] Unable to register cuFFT factory: Attempting to register factory for plugin cuFFT when one has already been registered\r\n",
      "WARNING: All log messages before absl::InitializeLog() is called are written to STDERR\r\n",
      "E0000 00:00:1746990304.746771      79 cuda_dnn.cc:8310] Unable to register cuDNN factory: Attempting to register factory for plugin cuDNN when one has already been registered\r\n",
      "E0000 00:00:1746990304.805750      79 cuda_blas.cc:1418] Unable to register cuBLAS factory: Attempting to register factory for plugin cuBLAS when one has already been registered\r\n",
      "config.json: 100%|█████████████████████████████| 843/843 [00:00<00:00, 5.89MB/s]\r\n",
      "tokenizer_config.json: 100%|███████████████| 50.5k/50.5k [00:00<00:00, 4.57MB/s]\r\n",
      "tokenizer.json: 100%|██████████████████████| 9.09M/9.09M [00:00<00:00, 22.8MB/s]\r\n",
      "special_tokens_map.json: 100%|█████████████████| 301/301 [00:00<00:00, 2.34MB/s]\r\n",
      "model.safetensors: 100%|███████████████████▉| 2.47G/2.47G [00:05<00:00, 491MB/s]\r\n",
      "generation_config.json: 100%|██████████████████| 185/185 [00:00<00:00, 1.49MB/s]\r\n",
      "README.md: 100%|███████████████████████████| 4.18k/4.18k [00:00<00:00, 18.8MB/s]\r\n",
      "test-00000-of-00001.parquet: 100%|█████████| 82.1k/82.1k [00:00<00:00, 5.79MB/s]\r\n",
      "Generating test split: 100%|████████| 504/504 [00:00<00:00, 11553.99 examples/s]\r\n",
      "test-00000-of-00001.parquet: 100%|█████████| 30.8k/30.8k [00:00<00:00, 44.2MB/s]\r\n",
      "Generating test split: 100%|███████| 315/315 [00:00<00:00, 118112.44 examples/s]\r\n",
      "test-00000-of-00001.parquet: 100%|█████████| 17.9k/17.9k [00:00<00:00, 34.6MB/s]\r\n",
      "Generating test split: 100%|████████| 263/263 [00:00<00:00, 99891.51 examples/s]\r\n",
      "test-00000-of-00001.parquet: 100%|█████████| 71.5k/71.5k [00:00<00:00, 18.9MB/s]\r\n",
      "Generating test split: 100%|███████| 959/959 [00:00<00:00, 241974.22 examples/s]\r\n",
      "test-00000-of-00001.parquet: 100%|█████████| 7.76k/7.76k [00:00<00:00, 39.1MB/s]\r\n",
      "Generating test split: 100%|██████████| 83/83 [00:00<00:00, 29163.71 examples/s]\r\n",
      "test-00000-of-00001.parquet: 100%|███████████| 136k/136k [00:00<00:00, 15.6MB/s]\r\n",
      "Generating test split: 100%|█████| 2325/2325 [00:00<00:00, 431245.60 examples/s]\r\n",
      "100%|███████████████████████████████████| 2325/2325 [00:00<00:00, 109634.36it/s]\r\n",
      "100%|████████████████████████████████████████| 83/83 [00:00<00:00, 82396.98it/s]\r\n",
      "100%|█████████████████████████████████████| 959/959 [00:00<00:00, 103495.11it/s]\r\n",
      "100%|██████████████████████████████████████| 263/263 [00:00<00:00, 95655.74it/s]\r\n",
      "100%|█████████████████████████████████████| 315/315 [00:00<00:00, 105747.22it/s]\r\n",
      "100%|██████████████████████████████████████| 504/504 [00:00<00:00, 97623.04it/s]\r\n",
      "Running loglikelihood requests:   0%|                  | 0/8898 [00:00<?, ?it/s]Passed argument batch_size = auto:4.0. Detecting largest batch size\r\n",
      "Determined largest batch size: 64\r\n",
      "Running loglikelihood requests:  24%|█▋     | 2157/8898 [01:11<01:42, 65.96it/s]Passed argument batch_size = auto:4.0. Detecting largest batch size\r\n",
      "Determined largest batch size: 64\r\n",
      "Running loglikelihood requests: 100%|███████| 8898/8898 [02:15<00:00, 65.72it/s]\r\n",
      "fatal: not a git repository (or any parent up to mount point /kaggle)\r\n",
      "Stopping at filesystem boundary (GIT_DISCOVERY_ACROSS_FILESYSTEM not set).\r\n",
      "steered (pretrained=meta-llama/Llama-3.2-1B,steer_path=/kaggle/working/configs/English/steer_config_mult_-0.2.pt), gen_kwargs: (None), limit: None, num_fewshot: None, batch_size: auto:4 (64,64,64,64,64)\r\n",
      "|     Tasks     |Version|Filter|n-shot|Metric|   |Value |   |Stderr|\r\n",
      "|---------------|------:|------|-----:|------|---|-----:|---|-----:|\r\n",
      "|xwinograd      |      1|none  |      |acc   |↑  |0.5194|±  |0.0075|\r\n",
      "| - xwinograd_en|      1|none  |     0|acc   |↑  |0.5196|±  |0.0104|\r\n",
      "| - xwinograd_fr|      1|none  |     0|acc   |↑  |0.4940|±  |0.0552|\r\n",
      "| - xwinograd_jp|      1|none  |     0|acc   |↑  |0.5328|±  |0.0161|\r\n",
      "| - xwinograd_pt|      1|none  |     0|acc   |↑  |0.5171|±  |0.0309|\r\n",
      "| - xwinograd_ru|      1|none  |     0|acc   |↑  |0.5397|±  |0.0281|\r\n",
      "| - xwinograd_zh|      1|none  |     0|acc   |↑  |0.4861|±  |0.0223|\r\n",
      "\r\n",
      "| Groups  |Version|Filter|n-shot|Metric|   |Value |   |Stderr|\r\n",
      "|---------|------:|------|------|------|---|-----:|---|-----:|\r\n",
      "|xwinograd|      1|none  |      |acc   |↑  |0.5194|±  |0.0075|\r\n",
      "\r\n",
      "2025-05-11 19:08:15.954080: E external/local_xla/xla/stream_executor/cuda/cuda_fft.cc:477] Unable to register cuFFT factory: Attempting to register factory for plugin cuFFT when one has already been registered\r\n",
      "WARNING: All log messages before absl::InitializeLog() is called are written to STDERR\r\n",
      "E0000 00:00:1746990495.976681     257 cuda_dnn.cc:8310] Unable to register cuDNN factory: Attempting to register factory for plugin cuDNN when one has already been registered\r\n",
      "E0000 00:00:1746990495.983515     257 cuda_blas.cc:1418] Unable to register cuBLAS factory: Attempting to register factory for plugin cuBLAS when one has already been registered\r\n",
      "100%|███████████████████████████████████| 2325/2325 [00:00<00:00, 108848.72it/s]\r\n",
      "100%|████████████████████████████████████████| 83/83 [00:00<00:00, 85033.52it/s]\r\n",
      "100%|█████████████████████████████████████| 959/959 [00:00<00:00, 104642.10it/s]\r\n",
      "100%|█████████████████████████████████████| 263/263 [00:00<00:00, 104450.52it/s]\r\n",
      "100%|█████████████████████████████████████| 315/315 [00:00<00:00, 102268.42it/s]\r\n",
      "100%|█████████████████████████████████████| 504/504 [00:00<00:00, 105670.04it/s]\r\n",
      "Running loglikelihood requests:   0%|                  | 0/8898 [00:00<?, ?it/s]Passed argument batch_size = auto:4.0. Detecting largest batch size\r\n",
      "Determined largest batch size: 64\r\n",
      "Running loglikelihood requests:  24%|█▋     | 2157/8898 [01:10<01:42, 66.00it/s]Passed argument batch_size = auto:4.0. Detecting largest batch size\r\n",
      "Determined largest batch size: 64\r\n",
      "Running loglikelihood requests: 100%|███████| 8898/8898 [02:14<00:00, 65.95it/s]\r\n",
      "fatal: not a git repository (or any parent up to mount point /kaggle)\r\n",
      "Stopping at filesystem boundary (GIT_DISCOVERY_ACROSS_FILESYSTEM not set).\r\n",
      "steered (pretrained=meta-llama/Llama-3.2-1B,steer_path=/kaggle/working/configs/French/steer_config_mult_-0.2.pt), gen_kwargs: (None), limit: None, num_fewshot: None, batch_size: auto:4 (64,64,64,64,64)\r\n",
      "|     Tasks     |Version|Filter|n-shot|Metric|   |Value |   |Stderr|\r\n",
      "|---------------|------:|------|-----:|------|---|-----:|---|-----:|\r\n",
      "|xwinograd      |      1|none  |      |acc   |↑  |0.7215|±  |0.0066|\r\n",
      "| - xwinograd_en|      1|none  |     0|acc   |↑  |0.8116|±  |0.0081|\r\n",
      "| - xwinograd_fr|      1|none  |     0|acc   |↑  |0.6506|±  |0.0527|\r\n",
      "| - xwinograd_jp|      1|none  |     0|acc   |↑  |0.6111|±  |0.0158|\r\n",
      "| - xwinograd_pt|      1|none  |     0|acc   |↑  |0.6616|±  |0.0292|\r\n",
      "| - xwinograd_ru|      1|none  |     0|acc   |↑  |0.5810|±  |0.0278|\r\n",
      "| - xwinograd_zh|      1|none  |     0|acc   |↑  |0.6468|±  |0.0213|\r\n",
      "\r\n",
      "| Groups  |Version|Filter|n-shot|Metric|   |Value |   |Stderr|\r\n",
      "|---------|------:|------|------|------|---|-----:|---|-----:|\r\n",
      "|xwinograd|      1|none  |      |acc   |↑  |0.7215|±  |0.0066|\r\n",
      "\r\n",
      "2025-05-11 19:11:04.493411: E external/local_xla/xla/stream_executor/cuda/cuda_fft.cc:477] Unable to register cuFFT factory: Attempting to register factory for plugin cuFFT when one has already been registered\r\n",
      "WARNING: All log messages before absl::InitializeLog() is called are written to STDERR\r\n",
      "E0000 00:00:1746990664.515616     320 cuda_dnn.cc:8310] Unable to register cuDNN factory: Attempting to register factory for plugin cuDNN when one has already been registered\r\n",
      "E0000 00:00:1746990664.523506     320 cuda_blas.cc:1418] Unable to register cuBLAS factory: Attempting to register factory for plugin cuBLAS when one has already been registered\r\n",
      "100%|███████████████████████████████████| 2325/2325 [00:00<00:00, 105837.45it/s]\r\n",
      "100%|████████████████████████████████████████| 83/83 [00:00<00:00, 89057.87it/s]\r\n",
      "100%|██████████████████████████████████████| 959/959 [00:00<00:00, 92094.92it/s]\r\n",
      "100%|█████████████████████████████████████| 263/263 [00:00<00:00, 100795.13it/s]\r\n",
      "100%|█████████████████████████████████████| 315/315 [00:00<00:00, 104352.40it/s]\r\n",
      "100%|██████████████████████████████████████| 504/504 [00:00<00:00, 90288.69it/s]\r\n",
      "Running loglikelihood requests:   0%|                  | 0/8898 [00:00<?, ?it/s]Passed argument batch_size = auto:4.0. Detecting largest batch size\r\n",
      "Determined largest batch size: 64\r\n",
      "Running loglikelihood requests:  24%|█▋     | 2157/8898 [01:10<01:42, 65.92it/s]Passed argument batch_size = auto:4.0. Detecting largest batch size\r\n",
      "Determined largest batch size: 64\r\n",
      "Running loglikelihood requests: 100%|███████| 8898/8898 [02:14<00:00, 65.95it/s]\r\n",
      "fatal: not a git repository (or any parent up to mount point /kaggle)\r\n",
      "Stopping at filesystem boundary (GIT_DISCOVERY_ACROSS_FILESYSTEM not set).\r\n",
      "steered (pretrained=meta-llama/Llama-3.2-1B,steer_path=/kaggle/working/configs/Japanese/steer_config_mult_-0.2.pt), gen_kwargs: (None), limit: None, num_fewshot: None, batch_size: auto:4 (64,64,64,64,64)\r\n",
      "|     Tasks     |Version|Filter|n-shot|Metric|   |Value |   |Stderr|\r\n",
      "|---------------|------:|------|-----:|------|---|-----:|---|-----:|\r\n",
      "|xwinograd      |      1|none  |      |acc   |↑  |0.5145|±  |0.0075|\r\n",
      "| - xwinograd_en|      1|none  |     0|acc   |↑  |0.5166|±  |0.0104|\r\n",
      "| - xwinograd_fr|      1|none  |     0|acc   |↑  |0.4699|±  |0.0551|\r\n",
      "| - xwinograd_jp|      1|none  |     0|acc   |↑  |0.5172|±  |0.0161|\r\n",
      "| - xwinograd_pt|      1|none  |     0|acc   |↑  |0.5019|±  |0.0309|\r\n",
      "| - xwinograd_ru|      1|none  |     0|acc   |↑  |0.5587|±  |0.0280|\r\n",
      "| - xwinograd_zh|      1|none  |     0|acc   |↑  |0.4861|±  |0.0223|\r\n",
      "\r\n",
      "| Groups  |Version|Filter|n-shot|Metric|   |Value |   |Stderr|\r\n",
      "|---------|------:|------|------|------|---|-----:|---|-----:|\r\n",
      "|xwinograd|      1|none  |      |acc   |↑  |0.5145|±  |0.0075|\r\n",
      "\r\n",
      "2025-05-11 19:13:52.001434: E external/local_xla/xla/stream_executor/cuda/cuda_fft.cc:477] Unable to register cuFFT factory: Attempting to register factory for plugin cuFFT when one has already been registered\r\n",
      "WARNING: All log messages before absl::InitializeLog() is called are written to STDERR\r\n",
      "E0000 00:00:1746990832.024194     383 cuda_dnn.cc:8310] Unable to register cuDNN factory: Attempting to register factory for plugin cuDNN when one has already been registered\r\n",
      "E0000 00:00:1746990832.030960     383 cuda_blas.cc:1418] Unable to register cuBLAS factory: Attempting to register factory for plugin cuBLAS when one has already been registered\r\n",
      "100%|███████████████████████████████████| 2325/2325 [00:00<00:00, 105030.39it/s]\r\n",
      "100%|████████████████████████████████████████| 83/83 [00:00<00:00, 91540.16it/s]\r\n",
      "100%|█████████████████████████████████████| 959/959 [00:00<00:00, 104863.07it/s]\r\n",
      "100%|█████████████████████████████████████| 263/263 [00:00<00:00, 107724.80it/s]\r\n",
      "100%|█████████████████████████████████████| 315/315 [00:00<00:00, 105942.25it/s]\r\n",
      "100%|█████████████████████████████████████| 504/504 [00:00<00:00, 103385.79it/s]\r\n",
      "Running loglikelihood requests:   0%|                  | 0/8898 [00:00<?, ?it/s]Passed argument batch_size = auto:4.0. Detecting largest batch size\r\n",
      "Determined largest batch size: 64\r\n",
      "Running loglikelihood requests:  24%|█▋     | 2157/8898 [01:10<01:42, 65.95it/s]Passed argument batch_size = auto:4.0. Detecting largest batch size\r\n",
      "Determined largest batch size: 64\r\n",
      "Running loglikelihood requests: 100%|███████| 8898/8898 [02:14<00:00, 65.94it/s]\r\n",
      "fatal: not a git repository (or any parent up to mount point /kaggle)\r\n",
      "Stopping at filesystem boundary (GIT_DISCOVERY_ACROSS_FILESYSTEM not set).\r\n",
      "steered (pretrained=meta-llama/Llama-3.2-1B,steer_path=/kaggle/working/configs/Portuguese/steer_config_mult_-0.2.pt), gen_kwargs: (None), limit: None, num_fewshot: None, batch_size: auto:4 (64,64,64,64,64)\r\n",
      "|     Tasks     |Version|Filter|n-shot|Metric|   |Value |   |Stderr|\r\n",
      "|---------------|------:|------|-----:|------|---|-----:|---|-----:|\r\n",
      "|xwinograd      |      1|none  |      |acc   |↑  |0.5109|±  |0.0075|\r\n",
      "| - xwinograd_en|      1|none  |     0|acc   |↑  |0.5118|±  |0.0104|\r\n",
      "| - xwinograd_fr|      1|none  |     0|acc   |↑  |0.4217|±  |0.0545|\r\n",
      "| - xwinograd_jp|      1|none  |     0|acc   |↑  |0.5203|±  |0.0161|\r\n",
      "| - xwinograd_pt|      1|none  |     0|acc   |↑  |0.5171|±  |0.0309|\r\n",
      "| - xwinograd_ru|      1|none  |     0|acc   |↑  |0.5429|±  |0.0281|\r\n",
      "| - xwinograd_zh|      1|none  |     0|acc   |↑  |0.4802|±  |0.0223|\r\n",
      "\r\n",
      "| Groups  |Version|Filter|n-shot|Metric|   |Value |   |Stderr|\r\n",
      "|---------|------:|------|------|------|---|-----:|---|-----:|\r\n",
      "|xwinograd|      1|none  |      |acc   |↑  |0.5109|±  |0.0075|\r\n",
      "\r\n",
      "2025-05-11 19:16:39.520277: E external/local_xla/xla/stream_executor/cuda/cuda_fft.cc:477] Unable to register cuFFT factory: Attempting to register factory for plugin cuFFT when one has already been registered\r\n",
      "WARNING: All log messages before absl::InitializeLog() is called are written to STDERR\r\n",
      "E0000 00:00:1746990999.543013     446 cuda_dnn.cc:8310] Unable to register cuDNN factory: Attempting to register factory for plugin cuDNN when one has already been registered\r\n",
      "E0000 00:00:1746990999.550577     446 cuda_blas.cc:1418] Unable to register cuBLAS factory: Attempting to register factory for plugin cuBLAS when one has already been registered\r\n",
      "100%|███████████████████████████████████| 2325/2325 [00:00<00:00, 106283.86it/s]\r\n",
      "100%|████████████████████████████████████████| 83/83 [00:00<00:00, 87249.93it/s]\r\n",
      "100%|█████████████████████████████████████| 959/959 [00:00<00:00, 100387.78it/s]\r\n",
      "100%|█████████████████████████████████████| 263/263 [00:00<00:00, 100547.07it/s]\r\n",
      "100%|█████████████████████████████████████| 315/315 [00:00<00:00, 102857.59it/s]\r\n",
      "100%|█████████████████████████████████████| 504/504 [00:00<00:00, 105606.70it/s]\r\n",
      "Running loglikelihood requests:   0%|                  | 0/8898 [00:00<?, ?it/s]Passed argument batch_size = auto:4.0. Detecting largest batch size\r\n",
      "Determined largest batch size: 64\r\n",
      "Running loglikelihood requests:  24%|█▋     | 2157/8898 [01:10<01:42, 65.97it/s]Passed argument batch_size = auto:4.0. Detecting largest batch size\r\n",
      "Determined largest batch size: 64\r\n",
      "Running loglikelihood requests: 100%|███████| 8898/8898 [02:14<00:00, 65.93it/s]\r\n",
      "fatal: not a git repository (or any parent up to mount point /kaggle)\r\n",
      "Stopping at filesystem boundary (GIT_DISCOVERY_ACROSS_FILESYSTEM not set).\r\n",
      "steered (pretrained=meta-llama/Llama-3.2-1B,steer_path=/kaggle/working/configs/Russian/steer_config_mult_-0.2.pt), gen_kwargs: (None), limit: None, num_fewshot: None, batch_size: auto:4 (64,64,64,64,64)\r\n",
      "|     Tasks     |Version|Filter|n-shot|Metric|   |Value |   |Stderr|\r\n",
      "|---------------|------:|------|-----:|------|---|-----:|---|-----:|\r\n",
      "|xwinograd      |      1|none  |      |acc   |↑  |0.5581|±  |0.0074|\r\n",
      "| - xwinograd_en|      1|none  |     0|acc   |↑  |0.5768|±  |0.0102|\r\n",
      "| - xwinograd_fr|      1|none  |     0|acc   |↑  |0.5181|±  |0.0552|\r\n",
      "| - xwinograd_jp|      1|none  |     0|acc   |↑  |0.5255|±  |0.0161|\r\n",
      "| - xwinograd_pt|      1|none  |     0|acc   |↑  |0.5133|±  |0.0309|\r\n",
      "| - xwinograd_ru|      1|none  |     0|acc   |↑  |0.5556|±  |0.0280|\r\n",
      "| - xwinograd_zh|      1|none  |     0|acc   |↑  |0.5655|±  |0.0221|\r\n",
      "\r\n",
      "| Groups  |Version|Filter|n-shot|Metric|   |Value |   |Stderr|\r\n",
      "|---------|------:|------|------|------|---|-----:|---|-----:|\r\n",
      "|xwinograd|      1|none  |      |acc   |↑  |0.5581|±  |0.0074|\r\n",
      "\r\n",
      "2025-05-11 19:19:27.670059: E external/local_xla/xla/stream_executor/cuda/cuda_fft.cc:477] Unable to register cuFFT factory: Attempting to register factory for plugin cuFFT when one has already been registered\r\n",
      "WARNING: All log messages before absl::InitializeLog() is called are written to STDERR\r\n",
      "E0000 00:00:1746991167.693572     509 cuda_dnn.cc:8310] Unable to register cuDNN factory: Attempting to register factory for plugin cuDNN when one has already been registered\r\n",
      "E0000 00:00:1746991167.700377     509 cuda_blas.cc:1418] Unable to register cuBLAS factory: Attempting to register factory for plugin cuBLAS when one has already been registered\r\n",
      "100%|███████████████████████████████████| 2325/2325 [00:00<00:00, 110416.41it/s]\r\n",
      "100%|████████████████████████████████████████| 83/83 [00:00<00:00, 71616.38it/s]\r\n",
      "100%|█████████████████████████████████████| 959/959 [00:00<00:00, 104022.38it/s]\r\n",
      "100%|█████████████████████████████████████| 263/263 [00:00<00:00, 101837.33it/s]\r\n",
      "100%|█████████████████████████████████████| 315/315 [00:00<00:00, 104434.89it/s]\r\n",
      "100%|█████████████████████████████████████| 504/504 [00:00<00:00, 104510.27it/s]\r\n",
      "Running loglikelihood requests:   0%|                  | 0/8898 [00:00<?, ?it/s]Passed argument batch_size = auto:4.0. Detecting largest batch size\r\n",
      "Determined largest batch size: 64\r\n",
      "Running loglikelihood requests:  24%|█▋     | 2157/8898 [01:10<01:42, 65.79it/s]Passed argument batch_size = auto:4.0. Detecting largest batch size\r\n",
      "Determined largest batch size: 64\r\n",
      "Running loglikelihood requests: 100%|███████| 8898/8898 [02:14<00:00, 65.94it/s]\r\n",
      "fatal: not a git repository (or any parent up to mount point /kaggle)\r\n",
      "Stopping at filesystem boundary (GIT_DISCOVERY_ACROSS_FILESYSTEM not set).\r\n",
      "steered (pretrained=meta-llama/Llama-3.2-1B,steer_path=/kaggle/working/configs/Chinese/steer_config_mult_-0.2.pt), gen_kwargs: (None), limit: None, num_fewshot: None, batch_size: auto:4 (64,64,64,64,64)\r\n",
      "|     Tasks     |Version|Filter|n-shot|Metric|   |Value |   |Stderr|\r\n",
      "|---------------|------:|------|-----:|------|---|-----:|---|-----:|\r\n",
      "|xwinograd      |      1|none  |      |acc   |↑  |0.5592|±  |0.0074|\r\n",
      "| - xwinograd_en|      1|none  |     0|acc   |↑  |0.5923|±  |0.0102|\r\n",
      "| - xwinograd_fr|      1|none  |     0|acc   |↑  |0.5181|±  |0.0552|\r\n",
      "| - xwinograd_jp|      1|none  |     0|acc   |↑  |0.5276|±  |0.0161|\r\n",
      "| - xwinograd_pt|      1|none  |     0|acc   |↑  |0.5057|±  |0.0309|\r\n",
      "| - xwinograd_ru|      1|none  |     0|acc   |↑  |0.5143|±  |0.0282|\r\n",
      "| - xwinograd_zh|      1|none  |     0|acc   |↑  |0.5298|±  |0.0223|\r\n",
      "\r\n",
      "| Groups  |Version|Filter|n-shot|Metric|   |Value |   |Stderr|\r\n",
      "|---------|------:|------|------|------|---|-----:|---|-----:|\r\n",
      "|xwinograd|      1|none  |      |acc   |↑  |0.5592|±  |0.0074|\r\n",
      "\r\n"
     ]
    }
   ],
   "source": [
    "for lang in langs:\n",
    "\t!lm_eval --model steered \\\n",
    "\t\t--model_args pretrained=meta-llama/Llama-3.2-1B,steer_path={steer_output_paths[lang]} \\\n",
    "\t\t--tasks {task} \\\n",
    "\t\t--device cuda:0 \\\n",
    "\t\t--batch_size auto:4 \\\n",
    "\t\t--output_path {output_paths[lang]} \\\n",
    "\t\t--log_samples "
   ]
  }
 ],
 "metadata": {
  "kaggle": {
   "accelerator": "gpu",
   "dataSources": [
    {
     "datasetId": 6927737,
     "sourceId": 11684125,
     "sourceType": "datasetVersion"
    }
   ],
   "dockerImageVersionId": 31012,
   "isGpuEnabled": true,
   "isInternetEnabled": true,
   "language": "python",
   "sourceType": "notebook"
  },
  "kernelspec": {
   "display_name": "Python 3",
   "language": "python",
   "name": "python3"
  },
  "language_info": {
   "codemirror_mode": {
    "name": "ipython",
    "version": 3
   },
   "file_extension": ".py",
   "mimetype": "text/x-python",
   "name": "python",
   "nbconvert_exporter": "python",
   "pygments_lexer": "ipython3",
   "version": "3.11.11"
  },
  "papermill": {
   "default_parameters": {},
   "duration": 1136.452498,
   "end_time": "2025-05-11T19:22:12.082900",
   "environment_variables": {},
   "exception": null,
   "input_path": "__notebook__.ipynb",
   "output_path": "__notebook__.ipynb",
   "parameters": {},
   "start_time": "2025-05-11T19:03:15.630402",
   "version": "2.6.0"
  }
 },
 "nbformat": 4,
 "nbformat_minor": 5
}
