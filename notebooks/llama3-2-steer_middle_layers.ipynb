{
 "cells": [
  {
   "cell_type": "markdown",
   "id": "11148ef5",
   "metadata": {
    "papermill": {
     "duration": 0.002534,
     "end_time": "2025-05-12T13:20:15.408301",
     "exception": false,
     "start_time": "2025-05-12T13:20:15.405767",
     "status": "completed"
    },
    "tags": []
   },
   "source": [
    "## lm-evaluation-harness steering for Llama-3.2-1B"
   ]
  },
  {
   "cell_type": "code",
   "execution_count": 1,
   "id": "b79ad5d3",
   "metadata": {
    "execution": {
     "iopub.execute_input": "2025-05-12T13:20:15.413973Z",
     "iopub.status.busy": "2025-05-12T13:20:15.413254Z",
     "iopub.status.idle": "2025-05-12T13:20:15.535367Z",
     "shell.execute_reply": "2025-05-12T13:20:15.534657Z"
    },
    "papermill": {
     "duration": 0.126035,
     "end_time": "2025-05-12T13:20:15.536625",
     "exception": false,
     "start_time": "2025-05-12T13:20:15.410590",
     "status": "completed"
    },
    "tags": []
   },
   "outputs": [
    {
     "name": "stdout",
     "output_type": "stream",
     "text": [
      "Python 3.11.11\r\n"
     ]
    }
   ],
   "source": [
    "!python --version"
   ]
  },
  {
   "cell_type": "code",
   "execution_count": 2,
   "id": "6ce19cfd",
   "metadata": {
    "execution": {
     "iopub.execute_input": "2025-05-12T13:20:15.541949Z",
     "iopub.status.busy": "2025-05-12T13:20:15.541730Z",
     "iopub.status.idle": "2025-05-12T13:21:35.916066Z",
     "shell.execute_reply": "2025-05-12T13:21:35.915073Z"
    },
    "papermill": {
     "duration": 80.378772,
     "end_time": "2025-05-12T13:21:35.917672",
     "exception": false,
     "start_time": "2025-05-12T13:20:15.538900",
     "status": "completed"
    },
    "tags": []
   },
   "outputs": [
    {
     "name": "stdout",
     "output_type": "stream",
     "text": [
      "\u001b[2K     \u001b[90m━━━━━━━━━━━━━━━━━━━━━━━━━━━━━━━━━━━━━━━━\u001b[0m \u001b[32m50.5/50.5 kB\u001b[0m \u001b[31m3.3 MB/s\u001b[0m eta \u001b[36m0:00:00\u001b[0m\r\n",
      "\u001b[?25h  Preparing metadata (setup.py) ... \u001b[?25l\u001b[?25hdone\r\n",
      "\u001b[2K     \u001b[90m━━━━━━━━━━━━━━━━━━━━━━━━━━━━━━━━━━━━━━━━\u001b[0m \u001b[32m51.8/51.8 kB\u001b[0m \u001b[31m3.4 MB/s\u001b[0m eta \u001b[36m0:00:00\u001b[0m\r\n",
      "\u001b[?25h  Preparing metadata (setup.py) ... \u001b[?25l\u001b[?25hdone\r\n",
      "  Preparing metadata (setup.py) ... \u001b[?25l\u001b[?25hdone\r\n",
      "\u001b[2K   \u001b[90m━━━━━━━━━━━━━━━━━━━━━━━━━━━━━━━━━━━━━━━━\u001b[0m \u001b[32m3.9/3.9 MB\u001b[0m \u001b[31m82.1 MB/s\u001b[0m eta \u001b[36m0:00:00\u001b[0m\r\n",
      "\u001b[2K   \u001b[90m━━━━━━━━━━━━━━━━━━━━━━━━━━━━━━━━━━━━━━━━\u001b[0m \u001b[32m84.0/84.0 kB\u001b[0m \u001b[31m6.3 MB/s\u001b[0m eta \u001b[36m0:00:00\u001b[0m\r\n",
      "\u001b[2K   \u001b[90m━━━━━━━━━━━━━━━━━━━━━━━━━━━━━━━━━━━━━━━━\u001b[0m \u001b[32m104.1/104.1 kB\u001b[0m \u001b[31m9.0 MB/s\u001b[0m eta \u001b[36m0:00:00\u001b[0m\r\n",
      "\u001b[2K   \u001b[90m━━━━━━━━━━━━━━━━━━━━━━━━━━━━━━━━━━━━━━━━\u001b[0m \u001b[32m363.4/363.4 MB\u001b[0m \u001b[31m4.7 MB/s\u001b[0m eta \u001b[36m0:00:00\u001b[0m\r\n",
      "\u001b[2K   \u001b[90m━━━━━━━━━━━━━━━━━━━━━━━━━━━━━━━━━━━━━━━━\u001b[0m \u001b[32m664.8/664.8 MB\u001b[0m \u001b[31m2.5 MB/s\u001b[0m eta \u001b[36m0:00:00\u001b[0m\r\n",
      "\u001b[2K   \u001b[90m━━━━━━━━━━━━━━━━━━━━━━━━━━━━━━━━━━━━━━━━\u001b[0m \u001b[32m211.5/211.5 MB\u001b[0m \u001b[31m6.0 MB/s\u001b[0m eta \u001b[36m0:00:00\u001b[0m\r\n",
      "\u001b[2K   \u001b[90m━━━━━━━━━━━━━━━━━━━━━━━━━━━━━━━━━━━━━━━━\u001b[0m \u001b[32m56.3/56.3 MB\u001b[0m \u001b[31m31.9 MB/s\u001b[0m eta \u001b[36m0:00:00\u001b[0m\r\n",
      "\u001b[2K   \u001b[90m━━━━━━━━━━━━━━━━━━━━━━━━━━━━━━━━━━━━━━━━\u001b[0m \u001b[32m127.9/127.9 MB\u001b[0m \u001b[31m13.6 MB/s\u001b[0m eta \u001b[36m0:00:00\u001b[0m\r\n",
      "\u001b[2K   \u001b[90m━━━━━━━━━━━━━━━━━━━━━━━━━━━━━━━━━━━━━━━━\u001b[0m \u001b[32m207.5/207.5 MB\u001b[0m \u001b[31m2.0 MB/s\u001b[0m eta \u001b[36m0:00:00\u001b[0m\r\n",
      "\u001b[2K   \u001b[90m━━━━━━━━━━━━━━━━━━━━━━━━━━━━━━━━━━━━━━━━\u001b[0m \u001b[32m21.1/21.1 MB\u001b[0m \u001b[31m89.3 MB/s\u001b[0m eta \u001b[36m0:00:00\u001b[0m\r\n",
      "\u001b[2K   \u001b[90m━━━━━━━━━━━━━━━━━━━━━━━━━━━━━━━━━━━━━━━━\u001b[0m \u001b[32m91.1/91.1 kB\u001b[0m \u001b[31m6.4 MB/s\u001b[0m eta \u001b[36m0:00:00\u001b[0m\r\n",
      "\u001b[2K   \u001b[90m━━━━━━━━━━━━━━━━━━━━━━━━━━━━━━━━━━━━━━━━\u001b[0m \u001b[32m183.9/183.9 kB\u001b[0m \u001b[31m13.6 MB/s\u001b[0m eta \u001b[36m0:00:00\u001b[0m\r\n",
      "\u001b[?25h  Building wheel for rouge-score (setup.py) ... \u001b[?25l\u001b[?25hdone\r\n",
      "  Building wheel for sqlitedict (setup.py) ... \u001b[?25l\u001b[?25hdone\r\n",
      "  Building wheel for word2number (setup.py) ... \u001b[?25l\u001b[?25hdone\r\n",
      "\u001b[31mERROR: pip's dependency resolver does not currently take into account all the packages that are installed. This behaviour is the source of the following dependency conflicts.\r\n",
      "gcsfs 2024.10.0 requires fsspec==2024.10.0, but you have fsspec 2024.12.0 which is incompatible.\r\n",
      "bigframes 1.36.0 requires rich<14,>=12.4.4, but you have rich 14.0.0 which is incompatible.\r\n",
      "pylibcugraph-cu12 24.12.0 requires pylibraft-cu12==24.12.*, but you have pylibraft-cu12 25.2.0 which is incompatible.\r\n",
      "pylibcugraph-cu12 24.12.0 requires rmm-cu12==24.12.*, but you have rmm-cu12 25.2.0 which is incompatible.\u001b[0m\u001b[31m\r\n",
      "\u001b[0mNote: you may need to restart the kernel to use updated packages.\n"
     ]
    }
   ],
   "source": [
    "%pip install --quiet lm-eval==0.4.8"
   ]
  },
  {
   "cell_type": "code",
   "execution_count": 3,
   "id": "73ec2195",
   "metadata": {
    "execution": {
     "iopub.execute_input": "2025-05-12T13:21:35.960202Z",
     "iopub.status.busy": "2025-05-12T13:21:35.959535Z",
     "iopub.status.idle": "2025-05-12T13:21:36.246269Z",
     "shell.execute_reply": "2025-05-12T13:21:36.245426Z"
    },
    "papermill": {
     "duration": 0.309716,
     "end_time": "2025-05-12T13:21:36.247957",
     "exception": false,
     "start_time": "2025-05-12T13:21:35.938241",
     "status": "completed"
    },
    "tags": []
   },
   "outputs": [],
   "source": [
    "env = 'kaggle'\n",
    "\n",
    "if env == 'colab':\n",
    "    from google.colab import userdata\n",
    "\n",
    "    HF_TOKEN = userdata.get('HF_TOKEN')\n",
    "elif env == 'kaggle':\n",
    "    from kaggle_secrets import UserSecretsClient\n",
    "\n",
    "    user_secrets = UserSecretsClient()\n",
    "    HF_TOKEN = user_secrets.get_secret(\"HF_TOKEN\")\n",
    "else:\n",
    "    from dotenv import load_dotenv\n",
    "    import os\n",
    "\n",
    "    load_dotenv()\n",
    "    HF_TOKEN = os.getenv(\"HF_TOKEN\")"
   ]
  },
  {
   "cell_type": "code",
   "execution_count": 4,
   "id": "282de790",
   "metadata": {
    "execution": {
     "iopub.execute_input": "2025-05-12T13:21:36.297443Z",
     "iopub.status.busy": "2025-05-12T13:21:36.297204Z",
     "iopub.status.idle": "2025-05-12T13:21:37.168670Z",
     "shell.execute_reply": "2025-05-12T13:21:37.168114Z"
    },
    "papermill": {
     "duration": 0.893463,
     "end_time": "2025-05-12T13:21:37.170094",
     "exception": false,
     "start_time": "2025-05-12T13:21:36.276631",
     "status": "completed"
    },
    "tags": []
   },
   "outputs": [],
   "source": [
    "from huggingface_hub import login\n",
    "\n",
    "login(token=HF_TOKEN)"
   ]
  },
  {
   "cell_type": "code",
   "execution_count": 5,
   "id": "2f1a1628",
   "metadata": {
    "execution": {
     "iopub.execute_input": "2025-05-12T13:21:37.210796Z",
     "iopub.status.busy": "2025-05-12T13:21:37.210560Z",
     "iopub.status.idle": "2025-05-12T13:21:39.900886Z",
     "shell.execute_reply": "2025-05-12T13:21:39.900083Z"
    },
    "papermill": {
     "duration": 2.712068,
     "end_time": "2025-05-12T13:21:39.902303",
     "exception": false,
     "start_time": "2025-05-12T13:21:37.190235",
     "status": "completed"
    },
    "tags": []
   },
   "outputs": [],
   "source": [
    "import torch\n",
    "import os\n",
    "from pathlib import Path\n",
    "import pprint"
   ]
  },
  {
   "cell_type": "markdown",
   "id": "acc0fa2b",
   "metadata": {
    "papermill": {
     "duration": 0.020164,
     "end_time": "2025-05-12T13:21:39.945994",
     "exception": false,
     "start_time": "2025-05-12T13:21:39.925830",
     "status": "completed"
    },
    "tags": []
   },
   "source": [
    "## Steering Configuration"
   ]
  },
  {
   "cell_type": "code",
   "execution_count": 6,
   "id": "349f5dbd",
   "metadata": {
    "execution": {
     "iopub.execute_input": "2025-05-12T13:21:40.036993Z",
     "iopub.status.busy": "2025-05-12T13:21:40.036569Z",
     "iopub.status.idle": "2025-05-12T13:21:40.041622Z",
     "shell.execute_reply": "2025-05-12T13:21:40.041095Z"
    },
    "papermill": {
     "duration": 0.075279,
     "end_time": "2025-05-12T13:21:40.042712",
     "exception": false,
     "start_time": "2025-05-12T13:21:39.967433",
     "status": "completed"
    },
    "tags": []
   },
   "outputs": [],
   "source": [
    "def generate_config(layers, lang, multiplier, lape_result, lape_value_type):\n",
    "    steer_config = {}\n",
    "    lang_index = sorted_lang.index(lang)\n",
    "\n",
    "    for layer_index, layer in enumerate(layers):\n",
    "        sae_features = lape_result[\"sae_features\"][lang_index][layer_index]\n",
    "\n",
    "        if sae_features.numel() == 0:\n",
    "            continue\n",
    "\n",
    "        lape_value = lape_result[lape_value_type][lang_index][layer_index].unsqueeze(1)\n",
    "        steering_vector = torch.sum(lape_value * sae_features, dim=0, keepdim=True)\n",
    "\n",
    "        steer_config[layer] = {\n",
    "            \"steering_vector\": steering_vector,\n",
    "            \"bias\": None,\n",
    "            \"steering_coefficient\": multiplier,\n",
    "            \"action\": \"add\",\n",
    "        }\n",
    "\n",
    "    return steer_config"
   ]
  },
  {
   "cell_type": "markdown",
   "id": "29862b5c",
   "metadata": {
    "papermill": {
     "duration": 0.019711,
     "end_time": "2025-05-12T13:21:40.082133",
     "exception": false,
     "start_time": "2025-05-12T13:21:40.062422",
     "status": "completed"
    },
    "tags": []
   },
   "source": [
    "## Llama-3.2-1B Evaluation on XWinograd"
   ]
  },
  {
   "cell_type": "code",
   "execution_count": 7,
   "id": "2c0dd4f8",
   "metadata": {
    "execution": {
     "iopub.execute_input": "2025-05-12T13:21:40.122500Z",
     "iopub.status.busy": "2025-05-12T13:21:40.122278Z",
     "iopub.status.idle": "2025-05-12T13:21:40.125594Z",
     "shell.execute_reply": "2025-05-12T13:21:40.125097Z"
    },
    "papermill": {
     "duration": 0.024708,
     "end_time": "2025-05-12T13:21:40.126534",
     "exception": false,
     "start_time": "2025-05-12T13:21:40.101826",
     "status": "completed"
    },
    "tags": []
   },
   "outputs": [],
   "source": [
    "layers = [\n",
    "    # \"layers.0.mlp\",\n",
    "    # \"layers.1.mlp\",\n",
    "    # \"layers.2.mlp\",\n",
    "    \"layers.3.mlp\",\n",
    "    \"layers.4.mlp\",\n",
    "    \"layers.5.mlp\",\n",
    "    \"layers.6.mlp\",\n",
    "    \"layers.7.mlp\",\n",
    "    \"layers.8.mlp\",\n",
    "    \"layers.9.mlp\",\n",
    "    \"layers.10.mlp\",\n",
    "    \"layers.11.mlp\",\n",
    "    \"layers.12.mlp\",\n",
    "    \"layers.13.mlp\",\n",
    "    # \"layers.14.mlp\",\n",
    "    # \"layers.15.mlp\",\n",
    "]"
   ]
  },
  {
   "cell_type": "code",
   "execution_count": 8,
   "id": "605d49a9",
   "metadata": {
    "execution": {
     "iopub.execute_input": "2025-05-12T13:21:40.167037Z",
     "iopub.status.busy": "2025-05-12T13:21:40.166431Z",
     "iopub.status.idle": "2025-05-12T13:21:40.169997Z",
     "shell.execute_reply": "2025-05-12T13:21:40.169420Z"
    },
    "papermill": {
     "duration": 0.02476,
     "end_time": "2025-05-12T13:21:40.170949",
     "exception": false,
     "start_time": "2025-05-12T13:21:40.146189",
     "status": "completed"
    },
    "tags": []
   },
   "outputs": [],
   "source": [
    "langs = [\"English\", \"French\", \"Japanese\", \"Portuguese\", \"Russian\", \"Chinese\"]\n",
    "multiplier = -0.2\n",
    "lape_value_type = \"final_indice_global_max_active\"\n",
    "task = \"xwinograd\""
   ]
  },
  {
   "cell_type": "code",
   "execution_count": 9,
   "id": "aac9418f",
   "metadata": {
    "execution": {
     "iopub.execute_input": "2025-05-12T13:21:40.210608Z",
     "iopub.status.busy": "2025-05-12T13:21:40.210416Z",
     "iopub.status.idle": "2025-05-12T13:21:48.510651Z",
     "shell.execute_reply": "2025-05-12T13:21:48.509878Z"
    },
    "papermill": {
     "duration": 8.321588,
     "end_time": "2025-05-12T13:21:48.512072",
     "exception": false,
     "start_time": "2025-05-12T13:21:40.190484",
     "status": "completed"
    },
    "tags": []
   },
   "outputs": [],
   "source": [
    "lape_result_path = \"/kaggle/input/lape-result/lape_all.pt\"\n",
    "lape_result = torch.load(lape_result_path, weights_only=False)"
   ]
  },
  {
   "cell_type": "code",
   "execution_count": 10,
   "id": "2243f932",
   "metadata": {
    "execution": {
     "iopub.execute_input": "2025-05-12T13:21:48.554337Z",
     "iopub.status.busy": "2025-05-12T13:21:48.554042Z",
     "iopub.status.idle": "2025-05-12T13:21:48.559414Z",
     "shell.execute_reply": "2025-05-12T13:21:48.558732Z"
    },
    "papermill": {
     "duration": 0.028133,
     "end_time": "2025-05-12T13:21:48.560518",
     "exception": false,
     "start_time": "2025-05-12T13:21:48.532385",
     "status": "completed"
    },
    "tags": []
   },
   "outputs": [
    {
     "data": {
      "text/plain": [
       "['Bulgarian',\n",
       " 'Chinese',\n",
       " 'English',\n",
       " 'French',\n",
       " 'German',\n",
       " 'Hindi',\n",
       " 'Italian',\n",
       " 'Japanese',\n",
       " 'Korean',\n",
       " 'Portuguese',\n",
       " 'Russian',\n",
       " 'Spanish',\n",
       " 'Thai',\n",
       " 'Turkish',\n",
       " 'Vietnamese']"
      ]
     },
     "execution_count": 10,
     "metadata": {},
     "output_type": "execute_result"
    }
   ],
   "source": [
    "sorted_lang = lape_result['sorted_lang']\n",
    "sorted_lang"
   ]
  },
  {
   "cell_type": "code",
   "execution_count": 11,
   "id": "7bac2252",
   "metadata": {
    "execution": {
     "iopub.execute_input": "2025-05-12T13:21:48.601572Z",
     "iopub.status.busy": "2025-05-12T13:21:48.601211Z",
     "iopub.status.idle": "2025-05-12T13:21:48.675636Z",
     "shell.execute_reply": "2025-05-12T13:21:48.674765Z"
    },
    "papermill": {
     "duration": 0.096374,
     "end_time": "2025-05-12T13:21:48.677062",
     "exception": false,
     "start_time": "2025-05-12T13:21:48.580688",
     "status": "completed"
    },
    "tags": []
   },
   "outputs": [
    {
     "name": "stdout",
     "output_type": "stream",
     "text": [
      "Steer config for English:\n",
      "{'layers.11.mlp': {'action': 'add',\n",
      "                   'bias': None,\n",
      "                   'steering_coefficient': -0.2,\n",
      "                   'steering_vector': tensor([[ 0.0011,  0.0084,  0.0212,  ..., -0.0126,  0.0265,  0.0016]])},\n",
      " 'layers.3.mlp': {'action': 'add',\n",
      "                  'bias': None,\n",
      "                  'steering_coefficient': -0.2,\n",
      "                  'steering_vector': tensor([[-0.0016,  0.0012, -0.0162,  ..., -0.0097,  0.0093,  0.0034]])},\n",
      " 'layers.5.mlp': {'action': 'add',\n",
      "                  'bias': None,\n",
      "                  'steering_coefficient': -0.2,\n",
      "                  'steering_vector': tensor([[-0.0076,  0.0086,  0.0017,  ..., -0.0071,  0.0072, -0.0010]])},\n",
      " 'layers.7.mlp': {'action': 'add',\n",
      "                  'bias': None,\n",
      "                  'steering_coefficient': -0.2,\n",
      "                  'steering_vector': tensor([[-0.0111, -0.0190, -0.0057,  ..., -0.0072, -0.0029,  0.0166]])}}\n",
      "\n",
      "Steer config for French:\n",
      "{'layers.11.mlp': {'action': 'add',\n",
      "                   'bias': None,\n",
      "                   'steering_coefficient': -0.2,\n",
      "                   'steering_vector': tensor([[ 0.0068,  0.0031, -0.0054,  ..., -0.0430, -0.0432, -0.0425]])},\n",
      " 'layers.12.mlp': {'action': 'add',\n",
      "                   'bias': None,\n",
      "                   'steering_coefficient': -0.2,\n",
      "                   'steering_vector': tensor([[ 0.0004,  0.0492, -0.0275,  ...,  0.0112,  0.0271, -0.0869]])},\n",
      " 'layers.8.mlp': {'action': 'add',\n",
      "                  'bias': None,\n",
      "                  'steering_coefficient': -0.2,\n",
      "                  'steering_vector': tensor([[-0.0369,  0.0201, -0.0219,  ..., -0.0191,  0.0726,  0.0321]])}}\n",
      "\n",
      "Steer config for Japanese:\n",
      "{'layers.11.mlp': {'action': 'add',\n",
      "                   'bias': None,\n",
      "                   'steering_coefficient': -0.2,\n",
      "                   'steering_vector': tensor([[ 0.0113, -0.0173, -0.0006,  ...,  0.0406, -0.0127,  0.0172]])},\n",
      " 'layers.12.mlp': {'action': 'add',\n",
      "                   'bias': None,\n",
      "                   'steering_coefficient': -0.2,\n",
      "                   'steering_vector': tensor([[ 0.0524,  0.0270,  0.0090,  ...,  0.0004,  0.0028, -0.0004]])},\n",
      " 'layers.3.mlp': {'action': 'add',\n",
      "                  'bias': None,\n",
      "                  'steering_coefficient': -0.2,\n",
      "                  'steering_vector': tensor([[ 0.0209, -0.0150, -0.0190,  ..., -0.0061, -0.0350, -0.0142]])}}\n",
      "\n",
      "Steer config for Portuguese:\n",
      "{'layers.10.mlp': {'action': 'add',\n",
      "                   'bias': None,\n",
      "                   'steering_coefficient': -0.2,\n",
      "                   'steering_vector': tensor([[-0.0069, -0.0208,  0.0069,  ..., -0.0041, -0.0261, -0.0323]])},\n",
      " 'layers.11.mlp': {'action': 'add',\n",
      "                   'bias': None,\n",
      "                   'steering_coefficient': -0.2,\n",
      "                   'steering_vector': tensor([[ 0.0275, -0.0172, -0.0005,  ...,  0.0110, -0.0141,  0.0264]])},\n",
      " 'layers.12.mlp': {'action': 'add',\n",
      "                   'bias': None,\n",
      "                   'steering_coefficient': -0.2,\n",
      "                   'steering_vector': tensor([[-0.0191, -0.2261,  0.0365,  ...,  0.1755,  0.0014, -0.1539]])},\n",
      " 'layers.13.mlp': {'action': 'add',\n",
      "                   'bias': None,\n",
      "                   'steering_coefficient': -0.2,\n",
      "                   'steering_vector': tensor([[ 0.0354, -0.0713,  0.0167,  ...,  0.0797, -0.0868, -0.0279]])},\n",
      " 'layers.3.mlp': {'action': 'add',\n",
      "                  'bias': None,\n",
      "                  'steering_coefficient': -0.2,\n",
      "                  'steering_vector': tensor([[-0.0636,  0.0086, -0.0724,  ..., -0.0195, -0.0381, -0.0191]])},\n",
      " 'layers.5.mlp': {'action': 'add',\n",
      "                  'bias': None,\n",
      "                  'steering_coefficient': -0.2,\n",
      "                  'steering_vector': tensor([[-0.0149,  0.0061, -0.0088,  ...,  0.0592, -0.0508, -0.0706]])},\n",
      " 'layers.6.mlp': {'action': 'add',\n",
      "                  'bias': None,\n",
      "                  'steering_coefficient': -0.2,\n",
      "                  'steering_vector': tensor([[ 0.0469, -0.0003, -0.0208,  ...,  0.0015, -0.0868,  0.1017]])},\n",
      " 'layers.7.mlp': {'action': 'add',\n",
      "                  'bias': None,\n",
      "                  'steering_coefficient': -0.2,\n",
      "                  'steering_vector': tensor([[ 0.1115,  0.0291, -0.0357,  ..., -0.0064,  0.0400, -0.1209]])},\n",
      " 'layers.8.mlp': {'action': 'add',\n",
      "                  'bias': None,\n",
      "                  'steering_coefficient': -0.2,\n",
      "                  'steering_vector': tensor([[-0.0062, -0.0388, -0.0119,  ..., -0.0024, -0.0513, -0.0387]])}}\n",
      "\n",
      "Steer config for Russian:\n",
      "{'layers.10.mlp': {'action': 'add',\n",
      "                   'bias': None,\n",
      "                   'steering_coefficient': -0.2,\n",
      "                   'steering_vector': tensor([[-0.0122,  0.0208,  0.0010,  ...,  0.0071, -0.0041,  0.0069]])},\n",
      " 'layers.11.mlp': {'action': 'add',\n",
      "                   'bias': None,\n",
      "                   'steering_coefficient': -0.2,\n",
      "                   'steering_vector': tensor([[-0.0799, -0.0067, -0.0049,  ..., -0.0910,  0.0412,  0.0622]])},\n",
      " 'layers.12.mlp': {'action': 'add',\n",
      "                   'bias': None,\n",
      "                   'steering_coefficient': -0.2,\n",
      "                   'steering_vector': tensor([[-0.0045,  0.0452, -0.0125,  ...,  0.0291, -0.0086,  0.0206]])},\n",
      " 'layers.13.mlp': {'action': 'add',\n",
      "                   'bias': None,\n",
      "                   'steering_coefficient': -0.2,\n",
      "                   'steering_vector': tensor([[-0.0093,  0.0513, -0.0263,  ..., -0.0306, -0.0414,  0.1135]])},\n",
      " 'layers.7.mlp': {'action': 'add',\n",
      "                  'bias': None,\n",
      "                  'steering_coefficient': -0.2,\n",
      "                  'steering_vector': tensor([[ 0.0304,  0.0015, -0.0049,  ..., -0.0223,  0.0122,  0.0120]])},\n",
      " 'layers.9.mlp': {'action': 'add',\n",
      "                  'bias': None,\n",
      "                  'steering_coefficient': -0.2,\n",
      "                  'steering_vector': tensor([[-0.0219, -0.0046, -0.0156,  ..., -0.0230,  0.0189,  0.0122]])}}\n",
      "\n",
      "Steer config for Chinese:\n",
      "{'layers.10.mlp': {'action': 'add',\n",
      "                   'bias': None,\n",
      "                   'steering_coefficient': -0.2,\n",
      "                   'steering_vector': tensor([[-0.0097,  0.0038,  0.0005,  ...,  0.0047,  0.0038, -0.0011]])},\n",
      " 'layers.12.mlp': {'action': 'add',\n",
      "                   'bias': None,\n",
      "                   'steering_coefficient': -0.2,\n",
      "                   'steering_vector': tensor([[-0.0433, -0.0187, -0.0332,  ...,  0.0354,  0.0276, -0.1174]])},\n",
      " 'layers.13.mlp': {'action': 'add',\n",
      "                   'bias': None,\n",
      "                   'steering_coefficient': -0.2,\n",
      "                   'steering_vector': tensor([[-0.1178, -0.1156, -0.0528,  ...,  0.0035, -0.0323, -0.0826]])},\n",
      " 'layers.5.mlp': {'action': 'add',\n",
      "                  'bias': None,\n",
      "                  'steering_coefficient': -0.2,\n",
      "                  'steering_vector': tensor([[ 0.0276, -0.0069, -0.0259,  ..., -0.0097, -0.0174, -0.0063]])},\n",
      " 'layers.9.mlp': {'action': 'add',\n",
      "                  'bias': None,\n",
      "                  'steering_coefficient': -0.2,\n",
      "                  'steering_vector': tensor([[-0.0036, -0.0738, -0.0025,  ..., -0.0105,  0.0145, -0.0635]])}}\n",
      "\n"
     ]
    }
   ],
   "source": [
    "steer_output_paths = {}\n",
    "steer_configs = {}\n",
    "\n",
    "for lang in langs:\n",
    "    steer_config = generate_config(layers, lang, multiplier, lape_result, lape_value_type)\n",
    "    steer_configs[lang] = steer_config\n",
    "\n",
    "    print(f\"Steer config for {lang}:\")\n",
    "    pprint.pprint(steer_config)\n",
    "    print()\n",
    "\n",
    "    steer_output_path = f\"/kaggle/working/configs/{lang}/steer_config_mult_{multiplier}.pt\"\n",
    "    steer_output_paths[lang] = steer_output_path\n",
    "\n",
    "    os.makedirs(os.path.dirname(steer_output_path), exist_ok=True)\n",
    "    torch.save(steer_config, steer_output_path)"
   ]
  },
  {
   "cell_type": "code",
   "execution_count": 12,
   "id": "9384e1b3",
   "metadata": {
    "execution": {
     "iopub.execute_input": "2025-05-12T13:21:48.718967Z",
     "iopub.status.busy": "2025-05-12T13:21:48.718730Z",
     "iopub.status.idle": "2025-05-12T13:21:48.722287Z",
     "shell.execute_reply": "2025-05-12T13:21:48.721577Z"
    },
    "papermill": {
     "duration": 0.026205,
     "end_time": "2025-05-12T13:21:48.723430",
     "exception": false,
     "start_time": "2025-05-12T13:21:48.697225",
     "status": "completed"
    },
    "tags": []
   },
   "outputs": [],
   "source": [
    "output_paths = {}\n",
    "\n",
    "for lang in langs:\n",
    "    output_paths[lang] = f'/kaggle/working/eval_result/Llama-3.2-1B/{task}_steer/{lang}/mult_{multiplier}'"
   ]
  },
  {
   "cell_type": "code",
   "execution_count": 13,
   "id": "1a8e45ba",
   "metadata": {
    "execution": {
     "iopub.execute_input": "2025-05-12T13:21:48.764406Z",
     "iopub.status.busy": "2025-05-12T13:21:48.763779Z",
     "iopub.status.idle": "2025-05-12T13:40:40.599174Z",
     "shell.execute_reply": "2025-05-12T13:40:40.598066Z"
    },
    "papermill": {
     "duration": 1131.857366,
     "end_time": "2025-05-12T13:40:40.600708",
     "exception": false,
     "start_time": "2025-05-12T13:21:48.743342",
     "status": "completed"
    },
    "tags": []
   },
   "outputs": [
    {
     "name": "stdout",
     "output_type": "stream",
     "text": [
      "2025-05-12 13:21:59.076908: E external/local_xla/xla/stream_executor/cuda/cuda_fft.cc:477] Unable to register cuFFT factory: Attempting to register factory for plugin cuFFT when one has already been registered\r\n",
      "WARNING: All log messages before absl::InitializeLog() is called are written to STDERR\r\n",
      "E0000 00:00:1747056119.257363      79 cuda_dnn.cc:8310] Unable to register cuDNN factory: Attempting to register factory for plugin cuDNN when one has already been registered\r\n",
      "E0000 00:00:1747056119.315084      79 cuda_blas.cc:1418] Unable to register cuBLAS factory: Attempting to register factory for plugin cuBLAS when one has already been registered\r\n",
      "config.json: 100%|█████████████████████████████| 843/843 [00:00<00:00, 4.99MB/s]\r\n",
      "tokenizer_config.json: 100%|███████████████| 50.5k/50.5k [00:00<00:00, 3.46MB/s]\r\n",
      "tokenizer.json: 100%|██████████████████████| 9.09M/9.09M [00:01<00:00, 8.47MB/s]\r\n",
      "special_tokens_map.json: 100%|█████████████████| 301/301 [00:00<00:00, 1.80MB/s]\r\n",
      "model.safetensors: 100%|███████████████████▉| 2.47G/2.47G [00:06<00:00, 398MB/s]\r\n",
      "generation_config.json: 100%|██████████████████| 185/185 [00:00<00:00, 1.27MB/s]\r\n",
      "README.md: 100%|███████████████████████████| 4.18k/4.18k [00:00<00:00, 16.3MB/s]\r\n",
      "test-00000-of-00001.parquet: 100%|█████████| 82.1k/82.1k [00:00<00:00, 4.35MB/s]\r\n",
      "Generating test split: 100%|████████| 504/504 [00:00<00:00, 12568.25 examples/s]\r\n",
      "test-00000-of-00001.parquet: 100%|█████████| 30.8k/30.8k [00:00<00:00, 18.5MB/s]\r\n",
      "Generating test split: 100%|███████| 315/315 [00:00<00:00, 107915.20 examples/s]\r\n",
      "test-00000-of-00001.parquet: 100%|█████████| 17.9k/17.9k [00:00<00:00, 17.5MB/s]\r\n",
      "Generating test split: 100%|███████| 263/263 [00:00<00:00, 103035.86 examples/s]\r\n",
      "test-00000-of-00001.parquet: 100%|█████████| 71.5k/71.5k [00:00<00:00, 11.3MB/s]\r\n",
      "Generating test split: 100%|███████| 959/959 [00:00<00:00, 306323.78 examples/s]\r\n",
      "test-00000-of-00001.parquet: 100%|█████████| 7.76k/7.76k [00:00<00:00, 32.9MB/s]\r\n",
      "Generating test split: 100%|██████████| 83/83 [00:00<00:00, 34359.18 examples/s]\r\n",
      "test-00000-of-00001.parquet: 100%|███████████| 136k/136k [00:00<00:00, 10.8MB/s]\r\n",
      "Generating test split: 100%|█████| 2325/2325 [00:00<00:00, 456201.20 examples/s]\r\n",
      "100%|████████████████████████████████████| 2325/2325 [00:00<00:00, 89145.88it/s]\r\n",
      "100%|████████████████████████████████████████| 83/83 [00:00<00:00, 57427.78it/s]\r\n",
      "100%|██████████████████████████████████████| 959/959 [00:00<00:00, 95740.31it/s]\r\n",
      "100%|██████████████████████████████████████| 263/263 [00:00<00:00, 82388.67it/s]\r\n",
      "100%|█████████████████████████████████████| 315/315 [00:00<00:00, 102649.81it/s]\r\n",
      "100%|██████████████████████████████████████| 504/504 [00:00<00:00, 89270.66it/s]\r\n",
      "Running loglikelihood requests:   0%|                  | 0/8898 [00:00<?, ?it/s]Passed argument batch_size = auto:4.0. Detecting largest batch size\r\n",
      "Determined largest batch size: 64\r\n",
      "Running loglikelihood requests:  24%|█▋     | 2157/8898 [01:10<01:42, 65.99it/s]Passed argument batch_size = auto:4.0. Detecting largest batch size\r\n",
      "Determined largest batch size: 64\r\n",
      "Running loglikelihood requests: 100%|███████| 8898/8898 [02:15<00:00, 65.80it/s]\r\n",
      "fatal: not a git repository (or any parent up to mount point /kaggle)\r\n",
      "Stopping at filesystem boundary (GIT_DISCOVERY_ACROSS_FILESYSTEM not set).\r\n",
      "steered (pretrained=meta-llama/Llama-3.2-1B,steer_path=/kaggle/working/configs/English/steer_config_mult_-0.2.pt), gen_kwargs: (None), limit: None, num_fewshot: None, batch_size: auto:4 (64,64,64,64,64)\r\n",
      "|     Tasks     |Version|Filter|n-shot|Metric|   |Value |   |Stderr|\r\n",
      "|---------------|------:|------|-----:|------|---|-----:|---|-----:|\r\n",
      "|xwinograd      |      1|none  |      |acc   |↑  |0.7206|±  |0.0066|\r\n",
      "| - xwinograd_en|      1|none  |     0|acc   |↑  |0.8077|±  |0.0082|\r\n",
      "| - xwinograd_fr|      1|none  |     0|acc   |↑  |0.6627|±  |0.0522|\r\n",
      "| - xwinograd_jp|      1|none  |     0|acc   |↑  |0.6017|±  |0.0158|\r\n",
      "| - xwinograd_pt|      1|none  |     0|acc   |↑  |0.6654|±  |0.0292|\r\n",
      "| - xwinograd_ru|      1|none  |     0|acc   |↑  |0.6032|±  |0.0276|\r\n",
      "| - xwinograd_zh|      1|none  |     0|acc   |↑  |0.6567|±  |0.0212|\r\n",
      "\r\n",
      "| Groups  |Version|Filter|n-shot|Metric|   |Value |   |Stderr|\r\n",
      "|---------|------:|------|------|------|---|-----:|---|-----:|\r\n",
      "|xwinograd|      1|none  |      |acc   |↑  |0.7206|±  |0.0066|\r\n",
      "\r\n",
      "2025-05-12 13:25:30.654685: E external/local_xla/xla/stream_executor/cuda/cuda_fft.cc:477] Unable to register cuFFT factory: Attempting to register factory for plugin cuFFT when one has already been registered\r\n",
      "WARNING: All log messages before absl::InitializeLog() is called are written to STDERR\r\n",
      "E0000 00:00:1747056330.677325     262 cuda_dnn.cc:8310] Unable to register cuDNN factory: Attempting to register factory for plugin cuDNN when one has already been registered\r\n",
      "E0000 00:00:1747056330.684211     262 cuda_blas.cc:1418] Unable to register cuBLAS factory: Attempting to register factory for plugin cuBLAS when one has already been registered\r\n",
      "100%|███████████████████████████████████| 2325/2325 [00:00<00:00, 107648.35it/s]\r\n",
      "100%|████████████████████████████████████████| 83/83 [00:00<00:00, 53230.46it/s]\r\n",
      "100%|█████████████████████████████████████| 959/959 [00:00<00:00, 102201.32it/s]\r\n",
      "100%|█████████████████████████████████████| 263/263 [00:00<00:00, 106786.25it/s]\r\n",
      "100%|█████████████████████████████████████| 315/315 [00:00<00:00, 102078.79it/s]\r\n",
      "100%|█████████████████████████████████████| 504/504 [00:00<00:00, 105076.51it/s]\r\n",
      "Running loglikelihood requests:   0%|                  | 0/8898 [00:00<?, ?it/s]Passed argument batch_size = auto:4.0. Detecting largest batch size\r\n",
      "Determined largest batch size: 64\r\n",
      "Running loglikelihood requests:  24%|█▋     | 2157/8898 [01:10<01:42, 65.98it/s]Passed argument batch_size = auto:4.0. Detecting largest batch size\r\n",
      "Determined largest batch size: 64\r\n",
      "Running loglikelihood requests: 100%|███████| 8898/8898 [02:14<00:00, 65.92it/s]\r\n",
      "fatal: not a git repository (or any parent up to mount point /kaggle)\r\n",
      "Stopping at filesystem boundary (GIT_DISCOVERY_ACROSS_FILESYSTEM not set).\r\n",
      "steered (pretrained=meta-llama/Llama-3.2-1B,steer_path=/kaggle/working/configs/French/steer_config_mult_-0.2.pt), gen_kwargs: (None), limit: None, num_fewshot: None, batch_size: auto:4 (64,64,64,64,64)\r\n",
      "|     Tasks     |Version|Filter|n-shot|Metric|   |Value |   |Stderr|\r\n",
      "|---------------|------:|------|-----:|------|---|-----:|---|-----:|\r\n",
      "|xwinograd      |      1|none  |      |acc   |↑  |0.7157|±  |0.0066|\r\n",
      "| - xwinograd_en|      1|none  |     0|acc   |↑  |0.8095|±  |0.0081|\r\n",
      "| - xwinograd_fr|      1|none  |     0|acc   |↑  |0.6024|±  |0.0540|\r\n",
      "| - xwinograd_jp|      1|none  |     0|acc   |↑  |0.5923|±  |0.0159|\r\n",
      "| - xwinograd_pt|      1|none  |     0|acc   |↑  |0.6692|±  |0.0291|\r\n",
      "| - xwinograd_ru|      1|none  |     0|acc   |↑  |0.6063|±  |0.0276|\r\n",
      "| - xwinograd_zh|      1|none  |     0|acc   |↑  |0.6290|±  |0.0215|\r\n",
      "\r\n",
      "| Groups  |Version|Filter|n-shot|Metric|   |Value |   |Stderr|\r\n",
      "|---------|------:|------|------|------|---|-----:|---|-----:|\r\n",
      "|xwinograd|      1|none  |      |acc   |↑  |0.7157|±  |0.0066|\r\n",
      "\r\n",
      "2025-05-12 13:28:34.253130: E external/local_xla/xla/stream_executor/cuda/cuda_fft.cc:477] Unable to register cuFFT factory: Attempting to register factory for plugin cuFFT when one has already been registered\r\n",
      "WARNING: All log messages before absl::InitializeLog() is called are written to STDERR\r\n",
      "E0000 00:00:1747056514.276102     325 cuda_dnn.cc:8310] Unable to register cuDNN factory: Attempting to register factory for plugin cuDNN when one has already been registered\r\n",
      "E0000 00:00:1747056514.282916     325 cuda_blas.cc:1418] Unable to register cuBLAS factory: Attempting to register factory for plugin cuBLAS when one has already been registered\r\n",
      "100%|███████████████████████████████████| 2325/2325 [00:00<00:00, 101774.81it/s]\r\n",
      "100%|████████████████████████████████████████| 83/83 [00:00<00:00, 82867.71it/s]\r\n",
      "100%|██████████████████████████████████████| 959/959 [00:00<00:00, 99113.85it/s]\r\n",
      "100%|█████████████████████████████████████| 263/263 [00:00<00:00, 102566.43it/s]\r\n",
      "100%|█████████████████████████████████████| 315/315 [00:00<00:00, 100533.08it/s]\r\n",
      "100%|█████████████████████████████████████| 504/504 [00:00<00:00, 103178.90it/s]\r\n",
      "Running loglikelihood requests:   0%|                  | 0/8898 [00:00<?, ?it/s]Passed argument batch_size = auto:4.0. Detecting largest batch size\r\n",
      "Determined largest batch size: 64\r\n",
      "Running loglikelihood requests:  24%|█▋     | 2157/8898 [01:10<01:42, 66.01it/s]Passed argument batch_size = auto:4.0. Detecting largest batch size\r\n",
      "Determined largest batch size: 64\r\n",
      "Running loglikelihood requests: 100%|███████| 8898/8898 [02:14<00:00, 65.95it/s]\r\n",
      "fatal: not a git repository (or any parent up to mount point /kaggle)\r\n",
      "Stopping at filesystem boundary (GIT_DISCOVERY_ACROSS_FILESYSTEM not set).\r\n",
      "steered (pretrained=meta-llama/Llama-3.2-1B,steer_path=/kaggle/working/configs/Japanese/steer_config_mult_-0.2.pt), gen_kwargs: (None), limit: None, num_fewshot: None, batch_size: auto:4 (64,64,64,64,64)\r\n",
      "|     Tasks     |Version|Filter|n-shot|Metric|   |Value |   |Stderr|\r\n",
      "|---------------|------:|------|-----:|------|---|-----:|---|-----:|\r\n",
      "|xwinograd      |      1|none  |      |acc   |↑  |0.7235|±  |0.0066|\r\n",
      "| - xwinograd_en|      1|none  |     0|acc   |↑  |0.8120|±  |0.0081|\r\n",
      "| - xwinograd_fr|      1|none  |     0|acc   |↑  |0.6506|±  |0.0527|\r\n",
      "| - xwinograd_jp|      1|none  |     0|acc   |↑  |0.6121|±  |0.0157|\r\n",
      "| - xwinograd_pt|      1|none  |     0|acc   |↑  |0.6616|±  |0.0292|\r\n",
      "| - xwinograd_ru|      1|none  |     0|acc   |↑  |0.6095|±  |0.0275|\r\n",
      "| - xwinograd_zh|      1|none  |     0|acc   |↑  |0.6429|±  |0.0214|\r\n",
      "\r\n",
      "| Groups  |Version|Filter|n-shot|Metric|   |Value |   |Stderr|\r\n",
      "|---------|------:|------|------|------|---|-----:|---|-----:|\r\n",
      "|xwinograd|      1|none  |      |acc   |↑  |0.7235|±  |0.0066|\r\n",
      "\r\n",
      "2025-05-12 13:31:36.100639: E external/local_xla/xla/stream_executor/cuda/cuda_fft.cc:477] Unable to register cuFFT factory: Attempting to register factory for plugin cuFFT when one has already been registered\r\n",
      "WARNING: All log messages before absl::InitializeLog() is called are written to STDERR\r\n",
      "E0000 00:00:1747056696.123816     388 cuda_dnn.cc:8310] Unable to register cuDNN factory: Attempting to register factory for plugin cuDNN when one has already been registered\r\n",
      "E0000 00:00:1747056696.130753     388 cuda_blas.cc:1418] Unable to register cuBLAS factory: Attempting to register factory for plugin cuBLAS when one has already been registered\r\n",
      "100%|███████████████████████████████████| 2325/2325 [00:00<00:00, 103757.55it/s]\r\n",
      "100%|████████████████████████████████████████| 83/83 [00:00<00:00, 88717.44it/s]\r\n",
      "100%|█████████████████████████████████████| 959/959 [00:00<00:00, 101733.46it/s]\r\n",
      "100%|█████████████████████████████████████| 263/263 [00:00<00:00, 102834.15it/s]\r\n",
      "100%|██████████████████████████████████████| 315/315 [00:00<00:00, 87375.55it/s]\r\n",
      "100%|█████████████████████████████████████| 504/504 [00:00<00:00, 100081.87it/s]\r\n",
      "Running loglikelihood requests:   0%|                  | 0/8898 [00:00<?, ?it/s]Passed argument batch_size = auto:4.0. Detecting largest batch size\r\n",
      "Determined largest batch size: 64\r\n",
      "Running loglikelihood requests:  24%|█▋     | 2157/8898 [01:10<01:42, 65.95it/s]Passed argument batch_size = auto:4.0. Detecting largest batch size\r\n",
      "Determined largest batch size: 64\r\n",
      "Running loglikelihood requests: 100%|███████| 8898/8898 [02:14<00:00, 65.91it/s]\r\n",
      "fatal: not a git repository (or any parent up to mount point /kaggle)\r\n",
      "Stopping at filesystem boundary (GIT_DISCOVERY_ACROSS_FILESYSTEM not set).\r\n",
      "steered (pretrained=meta-llama/Llama-3.2-1B,steer_path=/kaggle/working/configs/Portuguese/steer_config_mult_-0.2.pt), gen_kwargs: (None), limit: None, num_fewshot: None, batch_size: auto:4 (64,64,64,64,64)\r\n",
      "|     Tasks     |Version|Filter|n-shot|Metric|   |Value |   |Stderr|\r\n",
      "|---------------|------:|------|-----:|------|---|-----:|---|-----:|\r\n",
      "|xwinograd      |      1|none  |      |acc   |↑  |0.7078|±  |0.0067|\r\n",
      "| - xwinograd_en|      1|none  |     0|acc   |↑  |0.7931|±  |0.0084|\r\n",
      "| - xwinograd_fr|      1|none  |     0|acc   |↑  |0.6747|±  |0.0517|\r\n",
      "| - xwinograd_jp|      1|none  |     0|acc   |↑  |0.5912|±  |0.0159|\r\n",
      "| - xwinograd_pt|      1|none  |     0|acc   |↑  |0.6046|±  |0.0302|\r\n",
      "| - xwinograd_ru|      1|none  |     0|acc   |↑  |0.6317|±  |0.0272|\r\n",
      "| - xwinograd_zh|      1|none  |     0|acc   |↑  |0.6429|±  |0.0214|\r\n",
      "\r\n",
      "| Groups  |Version|Filter|n-shot|Metric|   |Value |   |Stderr|\r\n",
      "|---------|------:|------|------|------|---|-----:|---|-----:|\r\n",
      "|xwinograd|      1|none  |      |acc   |↑  |0.7078|±  |0.0067|\r\n",
      "\r\n",
      "2025-05-12 13:34:40.322303: E external/local_xla/xla/stream_executor/cuda/cuda_fft.cc:477] Unable to register cuFFT factory: Attempting to register factory for plugin cuFFT when one has already been registered\r\n",
      "WARNING: All log messages before absl::InitializeLog() is called are written to STDERR\r\n",
      "E0000 00:00:1747056880.344981     451 cuda_dnn.cc:8310] Unable to register cuDNN factory: Attempting to register factory for plugin cuDNN when one has already been registered\r\n",
      "E0000 00:00:1747056880.351741     451 cuda_blas.cc:1418] Unable to register cuBLAS factory: Attempting to register factory for plugin cuBLAS when one has already been registered\r\n",
      "100%|███████████████████████████████████| 2325/2325 [00:00<00:00, 106461.39it/s]\r\n",
      "100%|████████████████████████████████████████| 83/83 [00:00<00:00, 75548.44it/s]\r\n",
      "100%|██████████████████████████████████████| 959/959 [00:00<00:00, 99752.93it/s]\r\n",
      "100%|█████████████████████████████████████| 263/263 [00:00<00:00, 107326.52it/s]\r\n",
      "100%|██████████████████████████████████████| 315/315 [00:00<00:00, 74229.21it/s]\r\n",
      "100%|█████████████████████████████████████| 504/504 [00:00<00:00, 104381.26it/s]\r\n",
      "Running loglikelihood requests:   0%|                  | 0/8898 [00:00<?, ?it/s]Passed argument batch_size = auto:4.0. Detecting largest batch size\r\n",
      "Determined largest batch size: 64\r\n",
      "Running loglikelihood requests:  24%|█▋     | 2157/8898 [01:10<01:42, 65.98it/s]Passed argument batch_size = auto:4.0. Detecting largest batch size\r\n",
      "Determined largest batch size: 64\r\n",
      "Running loglikelihood requests: 100%|███████| 8898/8898 [02:14<00:00, 65.92it/s]\r\n",
      "fatal: not a git repository (or any parent up to mount point /kaggle)\r\n",
      "Stopping at filesystem boundary (GIT_DISCOVERY_ACROSS_FILESYSTEM not set).\r\n",
      "steered (pretrained=meta-llama/Llama-3.2-1B,steer_path=/kaggle/working/configs/Russian/steer_config_mult_-0.2.pt), gen_kwargs: (None), limit: None, num_fewshot: None, batch_size: auto:4 (64,64,64,64,64)\r\n",
      "|     Tasks     |Version|Filter|n-shot|Metric|   |Value |   |Stderr|\r\n",
      "|---------------|------:|------|-----:|------|---|-----:|---|-----:|\r\n",
      "|xwinograd      |      1|none  |      |acc   |↑  |0.7229|±  |0.0065|\r\n",
      "| - xwinograd_en|      1|none  |     0|acc   |↑  |0.8168|±  |0.0080|\r\n",
      "| - xwinograd_fr|      1|none  |     0|acc   |↑  |0.6506|±  |0.0527|\r\n",
      "| - xwinograd_jp|      1|none  |     0|acc   |↑  |0.5933|±  |0.0159|\r\n",
      "| - xwinograd_pt|      1|none  |     0|acc   |↑  |0.6692|±  |0.0291|\r\n",
      "| - xwinograd_ru|      1|none  |     0|acc   |↑  |0.5968|±  |0.0277|\r\n",
      "| - xwinograd_zh|      1|none  |     0|acc   |↑  |0.6548|±  |0.0212|\r\n",
      "\r\n",
      "| Groups  |Version|Filter|n-shot|Metric|   |Value |   |Stderr|\r\n",
      "|---------|------:|------|------|------|---|-----:|---|-----:|\r\n",
      "|xwinograd|      1|none  |      |acc   |↑  |0.7229|±  |0.0065|\r\n",
      "\r\n",
      "2025-05-12 13:37:43.719751: E external/local_xla/xla/stream_executor/cuda/cuda_fft.cc:477] Unable to register cuFFT factory: Attempting to register factory for plugin cuFFT when one has already been registered\r\n",
      "WARNING: All log messages before absl::InitializeLog() is called are written to STDERR\r\n",
      "E0000 00:00:1747057063.742354     514 cuda_dnn.cc:8310] Unable to register cuDNN factory: Attempting to register factory for plugin cuDNN when one has already been registered\r\n",
      "E0000 00:00:1747057063.749265     514 cuda_blas.cc:1418] Unable to register cuBLAS factory: Attempting to register factory for plugin cuBLAS when one has already been registered\r\n",
      "100%|███████████████████████████████████| 2325/2325 [00:00<00:00, 103259.85it/s]\r\n",
      "100%|████████████████████████████████████████| 83/83 [00:00<00:00, 50482.49it/s]\r\n",
      "100%|██████████████████████████████████████| 959/959 [00:00<00:00, 92505.81it/s]\r\n",
      "100%|██████████████████████████████████████| 263/263 [00:00<00:00, 82094.36it/s]\r\n",
      "100%|██████████████████████████████████████| 315/315 [00:00<00:00, 96171.62it/s]\r\n",
      "100%|██████████████████████████████████████| 504/504 [00:00<00:00, 88179.59it/s]\r\n",
      "Running loglikelihood requests:   0%|                  | 0/8898 [00:00<?, ?it/s]Passed argument batch_size = auto:4.0. Detecting largest batch size\r\n",
      "Determined largest batch size: 64\r\n",
      "Running loglikelihood requests:  24%|█▋     | 2157/8898 [01:10<01:42, 65.98it/s]Passed argument batch_size = auto:4.0. Detecting largest batch size\r\n",
      "Determined largest batch size: 64\r\n",
      "Running loglikelihood requests: 100%|███████| 8898/8898 [02:14<00:00, 65.94it/s]\r\n",
      "fatal: not a git repository (or any parent up to mount point /kaggle)\r\n",
      "Stopping at filesystem boundary (GIT_DISCOVERY_ACROSS_FILESYSTEM not set).\r\n",
      "steered (pretrained=meta-llama/Llama-3.2-1B,steer_path=/kaggle/working/configs/Chinese/steer_config_mult_-0.2.pt), gen_kwargs: (None), limit: None, num_fewshot: None, batch_size: auto:4 (64,64,64,64,64)\r\n",
      "|     Tasks     |Version|Filter|n-shot|Metric|   |Value |   |Stderr|\r\n",
      "|---------------|------:|------|-----:|------|---|-----:|---|-----:|\r\n",
      "|xwinograd      |      1|none  |      |acc   |↑  |0.7177|±  |0.0066|\r\n",
      "| - xwinograd_en|      1|none  |     0|acc   |↑  |0.8090|±  |0.0082|\r\n",
      "| - xwinograd_fr|      1|none  |     0|acc   |↑  |0.6386|±  |0.0531|\r\n",
      "| - xwinograd_jp|      1|none  |     0|acc   |↑  |0.5850|±  |0.0159|\r\n",
      "| - xwinograd_pt|      1|none  |     0|acc   |↑  |0.6654|±  |0.0292|\r\n",
      "| - xwinograd_ru|      1|none  |     0|acc   |↑  |0.6413|±  |0.0271|\r\n",
      "| - xwinograd_zh|      1|none  |     0|acc   |↑  |0.6369|±  |0.0214|\r\n",
      "\r\n",
      "| Groups  |Version|Filter|n-shot|Metric|   |Value |   |Stderr|\r\n",
      "|---------|------:|------|------|------|---|-----:|---|-----:|\r\n",
      "|xwinograd|      1|none  |      |acc   |↑  |0.7177|±  |0.0066|\r\n",
      "\r\n"
     ]
    }
   ],
   "source": [
    "for lang in langs:\n",
    "\t!lm_eval --model steered \\\n",
    "\t\t--model_args pretrained=meta-llama/Llama-3.2-1B,steer_path={steer_output_paths[lang]} \\\n",
    "\t\t--tasks {task} \\\n",
    "\t\t--device cuda:0 \\\n",
    "\t\t--batch_size auto:4 \\\n",
    "\t\t--output_path {output_paths[lang]} \\\n",
    "\t\t--log_samples "
   ]
  }
 ],
 "metadata": {
  "kaggle": {
   "accelerator": "gpu",
   "dataSources": [
    {
     "datasetId": 6927737,
     "sourceId": 11741537,
     "sourceType": "datasetVersion"
    }
   ],
   "dockerImageVersionId": 31012,
   "isGpuEnabled": true,
   "isInternetEnabled": true,
   "language": "python",
   "sourceType": "notebook"
  },
  "kernelspec": {
   "display_name": "Python 3",
   "language": "python",
   "name": "python3"
  },
  "language_info": {
   "codemirror_mode": {
    "name": "ipython",
    "version": 3
   },
   "file_extension": ".py",
   "mimetype": "text/x-python",
   "name": "python",
   "nbconvert_exporter": "python",
   "pygments_lexer": "ipython3",
   "version": "3.11.11"
  },
  "papermill": {
   "default_parameters": {},
   "duration": 1230.245007,
   "end_time": "2025-05-12T13:40:41.680367",
   "environment_variables": {},
   "exception": null,
   "input_path": "__notebook__.ipynb",
   "output_path": "__notebook__.ipynb",
   "parameters": {},
   "start_time": "2025-05-12T13:20:11.435360",
   "version": "2.6.0"
  }
 },
 "nbformat": 4,
 "nbformat_minor": 5
}
